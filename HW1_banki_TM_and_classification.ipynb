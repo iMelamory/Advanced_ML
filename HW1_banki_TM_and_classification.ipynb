{
 "cells": [
  {
   "cell_type": "code",
   "execution_count": 1,
   "metadata": {
    "id": "h1dvK7H_qauH"
   },
   "outputs": [],
   "source": [
    "import json\n",
    "\n",
    "import bz2\n",
    "import regex\n",
    "from tqdm import tqdm\n",
    "from scipy import sparse"
   ]
  },
  {
   "cell_type": "code",
   "execution_count": 2,
   "metadata": {
    "id": "_ZsoxOinqauK",
    "outputId": "1b349b33-f266-404a-fa55-4088784d8897"
   },
   "outputs": [
    {
     "name": "stdout",
     "output_type": "stream",
     "text": [
      "Populating the interactive namespace from numpy and matplotlib\n"
     ]
    }
   ],
   "source": [
    "import pandas as pd\n",
    "import numpy as np\n",
    "import nltk\n",
    "import matplotlib.pyplot as plt\n",
    "import seaborn as sns\n",
    "%matplotlib inline\n",
    "%pylab inline"
   ]
  },
  {
   "cell_type": "code",
   "execution_count": 3,
   "metadata": {
    "id": "UNHVsbPnqauL",
    "outputId": "e8d7d7f4-576b-4846-b06a-f3b4a08adb95",
    "scrolled": true
   },
   "outputs": [
    {
     "name": "stderr",
     "output_type": "stream",
     "text": [
      "201030it [00:44, 4521.21it/s]\n"
     ]
    }
   ],
   "source": [
    "responses = []\n",
    "with bz2.BZ2File('banki_responses.json.bz2', 'r') as thefile:\n",
    "    for row in tqdm(thefile):\n",
    "        resp = json.loads(row)\n",
    "        if not resp['rating_not_checked'] and (len(resp['text'].split()) > 0):\n",
    "            responses.append(resp)"
   ]
  },
  {
   "cell_type": "markdown",
   "metadata": {
    "id": "F0ixYxfSqauM"
   },
   "source": [
    "\n",
    "Посмотрим на пример отзыва:"
   ]
  },
  {
   "cell_type": "code",
   "execution_count": 4,
   "metadata": {
    "id": "Dd7m6GpMqauP",
    "outputId": "975085c3-9f8c-4a64-ac12-747ffab282ce"
   },
   "outputs": [
    {
     "data": {
      "text/plain": [
       "{'city': 'г. Кострома',\n",
       " 'rating_not_checked': False,\n",
       " 'title': 'Как быстро данные о погашении кредита передаются в БКИ?',\n",
       " 'num_comments': 4,\n",
       " 'bank_license': 'лицензия № 3349',\n",
       " 'author': 'Natlion',\n",
       " 'bank_name': 'Россельхозбанк',\n",
       " 'datetime': '2015-06-03 21:29:27',\n",
       " 'text': 'Здравствуйте, Уважаемые сотрудники банка! В декабре 2014 года я взяла потребительский кредит, 26.05.2015 года досрочно его погасила. На данный момент пытаюсь оформить ипотеку в другом банке, но данные о погашении кредита не дошли до БКИ, справки о закрытии кредита не помогут, в банке сказали - ждать обновления кредитной истории для подачи заявки. В связи с этим хотелось бы узнать - как часто данные из Вашего банка передаются в БКИ? Ни в местных отделениях банка, ни по телефону горячей линии не смогли дать однозначного ответа, одни говорят- неделя, другие-две, третьи- месяц. В результате этого возник вопрос, потому как на квартиру, которую хочу приобрести, оформлена бронь, которая через две недели закончится и в случае ее окончания квартиру продадут другим покупателям. Очень бы не хотелось опоздать. Можно ли этот процесс обновления данных как-то проконтролировать, чтоб не случилось непредвиденной ситуации и результат не заставил себя долго ждать?',\n",
       " 'rating_grade': None}"
      ]
     },
     "execution_count": 4,
     "metadata": {},
     "output_type": "execute_result"
    }
   ],
   "source": [
    "responses[100]"
   ]
  },
  {
   "cell_type": "markdown",
   "metadata": {},
   "source": [
    "### Create dataframe"
   ]
  },
  {
   "cell_type": "code",
   "execution_count": 5,
   "metadata": {},
   "outputs": [
    {
     "data": {
      "text/html": [
       "<div>\n",
       "<style scoped>\n",
       "    .dataframe tbody tr th:only-of-type {\n",
       "        vertical-align: middle;\n",
       "    }\n",
       "\n",
       "    .dataframe tbody tr th {\n",
       "        vertical-align: top;\n",
       "    }\n",
       "\n",
       "    .dataframe thead th {\n",
       "        text-align: right;\n",
       "    }\n",
       "</style>\n",
       "<table border=\"1\" class=\"dataframe\">\n",
       "  <thead>\n",
       "    <tr style=\"text-align: right;\">\n",
       "      <th></th>\n",
       "      <th>city</th>\n",
       "      <th>rating_not_checked</th>\n",
       "      <th>title</th>\n",
       "      <th>num_comments</th>\n",
       "      <th>bank_license</th>\n",
       "      <th>author</th>\n",
       "      <th>bank_name</th>\n",
       "      <th>datetime</th>\n",
       "      <th>text</th>\n",
       "      <th>rating_grade</th>\n",
       "    </tr>\n",
       "  </thead>\n",
       "  <tbody>\n",
       "    <tr>\n",
       "      <th>0</th>\n",
       "      <td>г. Москва</td>\n",
       "      <td>False</td>\n",
       "      <td>Жалоба</td>\n",
       "      <td>0</td>\n",
       "      <td>лицензия № 2562</td>\n",
       "      <td>uhnov1</td>\n",
       "      <td>Бинбанк</td>\n",
       "      <td>2015-06-08 12:50:54</td>\n",
       "      <td>Добрый день! Я не являюсь клиентом банка и пор...</td>\n",
       "      <td>NaN</td>\n",
       "    </tr>\n",
       "    <tr>\n",
       "      <th>1</th>\n",
       "      <td>г. Новосибирск</td>\n",
       "      <td>False</td>\n",
       "      <td>Не могу пользоваться услугой Сбербанк он-лайн</td>\n",
       "      <td>0</td>\n",
       "      <td>лицензия № 1481</td>\n",
       "      <td>Foryou</td>\n",
       "      <td>Сбербанк России</td>\n",
       "      <td>2015-06-08 11:09:57</td>\n",
       "      <td>Доброго дня! Являюсь держателем зарплатной кар...</td>\n",
       "      <td>NaN</td>\n",
       "    </tr>\n",
       "    <tr>\n",
       "      <th>2</th>\n",
       "      <td>г. Москва</td>\n",
       "      <td>False</td>\n",
       "      <td>Двойное списание за один товар.</td>\n",
       "      <td>1</td>\n",
       "      <td>лицензия № 2562</td>\n",
       "      <td>Vladimir84</td>\n",
       "      <td>Бинбанк</td>\n",
       "      <td>2015-06-05 20:14:28</td>\n",
       "      <td>Здравствуйте!  Дублирую свое заявление от 03.0...</td>\n",
       "      <td>NaN</td>\n",
       "    </tr>\n",
       "  </tbody>\n",
       "</table>\n",
       "</div>"
      ],
      "text/plain": [
       "             city  rating_not_checked  \\\n",
       "0       г. Москва               False   \n",
       "1  г. Новосибирск               False   \n",
       "2       г. Москва               False   \n",
       "\n",
       "                                           title  num_comments  \\\n",
       "0                                         Жалоба             0   \n",
       "1  Не могу пользоваться услугой Сбербанк он-лайн             0   \n",
       "2                Двойное списание за один товар.             1   \n",
       "\n",
       "      bank_license      author        bank_name             datetime  \\\n",
       "0  лицензия № 2562      uhnov1          Бинбанк  2015-06-08 12:50:54   \n",
       "1  лицензия № 1481      Foryou  Сбербанк России  2015-06-08 11:09:57   \n",
       "2  лицензия № 2562  Vladimir84          Бинбанк  2015-06-05 20:14:28   \n",
       "\n",
       "                                                text  rating_grade  \n",
       "0  Добрый день! Я не являюсь клиентом банка и пор...           NaN  \n",
       "1  Доброго дня! Являюсь держателем зарплатной кар...           NaN  \n",
       "2  Здравствуйте!  Дублирую свое заявление от 03.0...           NaN  "
      ]
     },
     "execution_count": 5,
     "metadata": {},
     "output_type": "execute_result"
    }
   ],
   "source": [
    "data = pd.DataFrame(responses)\n",
    "data.head(3)"
   ]
  },
  {
   "cell_type": "code",
   "execution_count": 83,
   "metadata": {},
   "outputs": [
    {
     "data": {
      "text/plain": [
       "array(['Бинбанк', 'Сбербанк России', 'ОТП Банк', 'Гагаринский',\n",
       "       'Тинькофф Банк', 'Восточный Экспресс Банк', 'ВТБ 24', 'Альфа-Банк',\n",
       "       'БИНБАНК кредитные карты', 'МТС Банк', 'Совкомбанк',\n",
       "       'Россельхозбанк', 'Московский Кредитный Банк', 'МДМ Банк',\n",
       "       'Хоум Кредит Банк', 'Бенифит-Банк',\n",
       "       'Уральский Банк Реконструкции и Развития', 'Русский Стандарт',\n",
       "       'Лето Банк', 'Петрокоммерц', 'Русфинанс Банк', 'Киви Банк',\n",
       "       'Ханты-Мансийский банк Открытие', 'Русславбанк', 'Татфондбанк',\n",
       "       'МАСТ-Банк', 'Национальный Банк «Траст»',\n",
       "       'Военно-Промышленный Банк', 'АктивКапитал Банк', 'Связной Банк',\n",
       "       'Платежный Центр', 'Московский Индустриальный Банк',\n",
       "       'Финансовый Стандарт', 'Ренессанс Кредит', 'Югра',\n",
       "       'ЮниКредит Банк', 'Банкирский Дом', 'Кредит Европа Банк',\n",
       "       'Тройка-Д Банк', 'ДельтаКредит', 'Сетелем Банк', 'РосинтерБанк',\n",
       "       'ФК Открытие (бывш. НОМОС-Банк)', 'Банк Москвы', 'Росбанк',\n",
       "       'Авангард', 'Внешпромбанк', 'Росэнергобанк', 'Российский Капитал',\n",
       "       'Российский Кредит', 'Газпромбанк', 'Кредит-Москва',\n",
       "       'Промсвязьбанк', 'Европлан Банк', 'Адамон Банк', 'РосЕвроБанк',\n",
       "       'Ситибанк', 'Райффайзенбанк', 'Нота-Банк', 'АйМаниБанк',\n",
       "       'Яндекс.Деньги', 'Объединенный Кредитный Банк',\n",
       "       'Интеркоммерц Банк', 'Бинбанк Мурманск', 'Адмиралтейский',\n",
       "       'Соверен Банк', 'Владпромбанк', 'Дил-Банк', 'Донхлеббанк',\n",
       "       'СДМ-Банк', 'Русский Международный Банк', 'Уралсиб', 'Стратегия',\n",
       "       'Российский Национальный Коммерческий Банк', 'Метробанк',\n",
       "       'Возрождение', 'Финам Банк', 'Абсолют Банк', 'Первобанк',\n",
       "       'Азиатско-Тихоокеанский Банк', 'Московский Областной Банк',\n",
       "       'Плюс Банк', 'Ак Барс', 'Верхневолжский', 'Океан Банк',\n",
       "       'Юниаструм Банк', 'Фора-Банк', 'Сибэс', 'ОПМ-Банк', 'СКБ-Банк',\n",
       "       'Чайна Констракшн', 'Росавтобанк', 'Межрегиональный Почтовый Банк',\n",
       "       'Банк ИТБ', 'Советский', 'Клиентский', 'Интерактивный Банк',\n",
       "       'Инвестиционный Союз', 'СМП Банк', 'Рублев', 'Собинбанк',\n",
       "       'Алеф-Банк', 'Трансстройбанк', 'ББР Банк',\n",
       "       'Русский Ипотечный Банк', 'Крайинвестбанк', 'Центр-инвест',\n",
       "       'Пробизнесбанк', 'Смартбанк', 'Балтика', 'Росгосстрах Банк',\n",
       "       'Русский Торговый Банк', 'Кроссинвестбанк', 'Нордеа Банк',\n",
       "       'Инвестторгбанк', 'Балтинвестбанк', 'Темпбанк',\n",
       "       'Национальный Корпоративный Банк', 'Генбанк', 'Арксбанк',\n",
       "       'Банк Финсервис', 'Инвестиционный Республиканский Банк',\n",
       "       'Ижкомбанк', 'Экспресс-Волга', 'СИАБ', 'Солид Банк',\n",
       "       'Транскапиталбанк', 'РН Банк', 'Форус Банк',\n",
       "       'Русский Трастовый Банк', 'Банк Оранжевый (бывш. Промсервисбанк)',\n",
       "       'Констанс-Банк', 'Воронеж', 'Зенит', 'Сургутнефтегазбанк',\n",
       "       'БКС — Инвестиционный Банк', 'Банк «Санкт-Петербург»',\n",
       "       'Ланта-Банк', 'Транспортный', 'РФИ Банк', 'Анелик РУ', 'Локо-Банк',\n",
       "       'Образование', 'Миллениум Банк', 'Гута-Банк', 'Ренессанс',\n",
       "       'Московское Ипотечное Агентство', 'Первомайский', 'Анталбанк',\n",
       "       'Интерпрогрессбанк', 'Регнум', 'Россия', 'Таврический',\n",
       "       'Кубань Кредит', 'Связь-Банк', 'Унифин', 'Банк Интеза',\n",
       "       'Мосстройэкономбанк (М Банк)', 'БФГ-Кредит', 'ФИА-Банк', 'Веста',\n",
       "       'Вятка-Банк', 'Финпромбанк (ФПБ Банк)', 'Агросоюз', 'Спурт Банк',\n",
       "       'Региональный Кредит', 'Союзный', 'Эргобанк',\n",
       "       'Камский Коммерческий Банк', 'Рост Банк', 'Аверс',\n",
       "       'Меткомбанк (Череповец)', 'Бумеранг', 'БыстроБанк', 'Союз',\n",
       "       'Риабанк', 'Национальный Залоговый Банк', 'Миръ', 'Левобережный',\n",
       "       'Кошелев-Банк', 'Балтийский Банк', 'Торговый Городской Банк',\n",
       "       'НБД-Банк', 'Банк Жилищного Финансирования', 'ВТБ', 'Зенит Сочи',\n",
       "       'Пойдем!', 'Таурус Банк', 'Легион', 'Внешэкономбанк',\n",
       "       'Гринкомбанк', 'Газэнергобанк', 'Объединенный Национальный Банк',\n",
       "       'ЯР-Банк', 'Метрополь', 'НС Банк', 'Русстройбанк',\n",
       "       'Экспресс-Кредит', 'Ярославич', 'Челиндбанк', 'Эксперт Банк',\n",
       "       'Кольцо Урала', 'Межтрастбанк', 'Межтопэнергобанк', 'СтарБанк',\n",
       "       'Инвесткапиталбанк', 'БНП Париба Банк', 'Москоммерцбанк',\n",
       "       'Энергомашбанк', 'Глобэкс', 'Транснациональный Банк',\n",
       "       'Башкомснаббанк', 'Аспект', 'Банк Экономический Союз',\n",
       "       'Профессионал Банк', 'Солидарность (Самара)', 'Банк Город',\n",
       "       'Заубер Банк', 'Уссури', 'Еврокоммерц', 'Новикомбанк',\n",
       "       'Муниципальный Камчатпрофитбанк', 'Пересвет', 'Юнистрим',\n",
       "       'ТЭМБР-Банк', 'Живаго-Банк', 'Банк ПСА Финанс Рус',\n",
       "       'Банк Премьер Кредит', 'Мираф-Банк', 'Промсбербанк', 'Банк БКФ',\n",
       "       'Плато-Банк', 'Канский', 'Ставропольпромстройбанк', 'Анкор Банк',\n",
       "       'Социнвестбанк', 'Тусар', 'Конфидэнс Банк', 'Финарс Банк',\n",
       "       'Примсоцбанк', 'Нейва', 'Развитие', 'Рапида', 'МФБанк',\n",
       "       'Челябинвестбанк', 'Агропромкредит', 'Экономбанк', 'Евромет',\n",
       "       'Тульский Промышленник', 'Кредит Урал Банк', 'Иваново',\n",
       "       'Финанс Бизнес Банк', 'Милбанк',\n",
       "       'Промышленно-Финансовое Сотрудничество', 'СКА-Банк',\n",
       "       'Уралтрансбанк', 'Первый Чешско-Российский Банк', 'ВУЗ-Банк',\n",
       "       'Энерготрансбанк', 'Рускобанк', 'Фондсервисбанк', 'Татсоцбанк',\n",
       "       'Невский Банк', 'Солидарность (Москва)', 'Банк «МБА-Москва»',\n",
       "       'Акцент', 'Мико-Банк', 'Выборг-Банк', 'Йошкар-Ола', 'Оргбанк',\n",
       "       'СБ Банк (Судостроительный банк)', 'Леноблбанк',\n",
       "       'Петербургский Социальный Коммерческий Банк', 'Уралфинанс',\n",
       "       'БМВ Банк', 'Мегаполис', 'Металлинвестбанк', 'И.Д.Е.А. Банк',\n",
       "       'Альта-Банк', 'НСТ-Банк', 'Кредит Экспресс', 'Экспобанк',\n",
       "       'Меткомбанк (Каменск-Уральский)', 'ЮГ-Инвестбанк', 'Газстройбанк',\n",
       "       'Интехбанк', 'Аксонбанк', 'НоваховКапиталБанк', 'Дагэнергобанк',\n",
       "       'Морской Банк', 'Черноморский банк развития и реконструкции',\n",
       "       'Ваш Личный Банк', 'ЦентроКредит', 'Центркомбанк', 'Банк СГБ',\n",
       "       'РСКБ', 'Тойота Банк', 'Банк Торгового Финансирования', 'Вокбанк',\n",
       "       'Уралпромбанк', 'РИТ-Банк', 'Новопокровский', 'Межрегионбанк',\n",
       "       'РУБанк', 'Эл Банк', 'Ринвестбанк', 'Мосводоканалбанк',\n",
       "       'Енисейский Объединенный Банк', 'Век', 'Айви Банк', 'Резерв',\n",
       "       'Международный Расчетный Банк', 'Церих',\n",
       "       'Уральский Финансовый Дом', 'Волга-Кредит', 'Екатеринбург',\n",
       "       'Капиталбанк', 'Фольксваген Банк Рус', 'Промтрансбанк', 'Акцепт',\n",
       "       'Джей энд Ти Банк', 'Славия', 'Запсибкомбанк',\n",
       "       'Современный Коммерческий Банк (бывш. ДжиИ Мани Банк)',\n",
       "       'Банк Казани', 'Международный Банк Развития', 'Крыловский',\n",
       "       'Тюменьагропромбанк', 'Всероссийский Банк Развития Регионов',\n",
       "       'Форштадт', 'Девон-Кредит', 'Кранбанк', 'Булгар Банк', 'АББ',\n",
       "       'Платина', '2Т Банк', 'Александровский', 'Курскпромбанк',\n",
       "       'Златкомбанк', 'Алданзолотобанк', 'Саровбизнесбанк', 'Банк АВБ',\n",
       "       'Московский Клиринговый Центр', 'Региональный Коммерческий Банк',\n",
       "       'Нацинвестпромбанк', 'Кедр', 'Энергобанк', 'ТверьУниверсалБанк',\n",
       "       'БайкалИнвестБанк', 'Горбанк', 'Промрегионбанк',\n",
       "       'Тихоокеанский Внешторгбанк', 'МАК-Банк', 'БайкалБанк',\n",
       "       'Консервативный Коммерческий Банк', 'Таатта', 'Народный Кредит',\n",
       "       'Донинвест', 'Липецккомбанк', 'Приморье', 'Спецсетьстройбанк',\n",
       "       'Народный Банк', 'Банк24.ру', 'Богородский Муниципальный Банк',\n",
       "       'Интрастбанк', 'Курган', 'Вега-Банк', 'Далена',\n",
       "       'Московский Нефтехимический Банк', 'Первый Инвестиционный банк',\n",
       "       'Москва', 'ГПБ-Ипотека', 'ЕвроситиБанк', 'Банк МБФИ',\n",
       "       'Новосибирский Муниципальный Банк', 'Экопромбанк',\n",
       "       'Чувашкредитпромбанк', 'Эсидбанк', 'Юникорбанк', 'Ишбанк',\n",
       "       'Тимер Банк', 'Эллипс Банк', 'ИпоТек Банк',\n",
       "       'Компания Розничного Кредитования', 'Фининвест', 'Форбанк',\n",
       "       'Бум-Банк', 'Банк БФА', 'Русский Национальный Банк',\n",
       "       'Региональный Корпоративный Банк', 'ИстКом-Финанс', 'Диг-Банк',\n",
       "       'Софрино', 'Снежинский', 'Тульский Промышленник — Московский офис',\n",
       "       'Замоскворецкий', 'Банк БФТ', 'Московский Коммерческий Банк',\n",
       "       'Огни Москвы', 'Почтобанк', 'Навигатор', 'Нефтяной Альянс',\n",
       "       'Дойче Банк', 'Первый Республиканский Банк', 'Кубаньторгбанк',\n",
       "       'Стелла-Банк', 'Витабанк', 'Национальный Банк Развития Бизнеса',\n",
       "       'Экси-Банк', 'Вологжанин', 'Бузулукбанк', 'Западный', 'АФ Банк',\n",
       "       'Московский Вексельный Банк', 'Дальневосточный Банк',\n",
       "       'Саммит Банк', 'С банк', 'Стройкредит', 'Русский Земельный Банк',\n",
       "       'Мой Банк. Ипотека', 'Байкалкредобанк', 'Тальменка-Банк',\n",
       "       'Интеркоопбанк', 'Монолит', 'РТС-Банк', 'Венец', 'Уралприватбанк',\n",
       "       'Русь', 'Автоторгбанк', 'Роял Кредит Банк',\n",
       "       'Европейский Трастовый Банк', 'Берейт', 'Взаимодействие',\n",
       "       'Агророс', 'Мой Банк', 'Трастовый Республиканский Банк',\n",
       "       'ОФК Банк', 'Рублевский', 'Совинком', 'Кредитбанк',\n",
       "       'Банк БЦК-Москва', 'Евросиб Банк', 'Национальный Банк Сбережений',\n",
       "       'Банк Проектного Финансирования', 'Инвестбанк', 'Смоленский Банк',\n",
       "       'Волжский Социальный Банк', 'Радиан', 'Мастер-Банк', 'Газбанк',\n",
       "       'Нарат', 'Росдорбанк', 'Волго-Камский Банк',\n",
       "       'Европейский Экспресс', 'Единый Строительный Банк', 'РусЮгбанк',\n",
       "       'Ипозембанк', 'Транскредитбанк', 'Прио-Внешторгбанк', 'Еврокредит',\n",
       "       'Стройлесбанк', 'Банк Развития Региона', 'Нико-Банк', 'Пушкино',\n",
       "       'Сибнефтебанк', 'Вкабанк', 'Кузнецкий', 'Трансинвестбанк',\n",
       "       'Инбанк', 'Европейский Индустриальный Банк',\n",
       "       'Региональный Банк Развития', 'Новый Символ',\n",
       "       'КИТ Финанс Инвестиционный Банк',\n",
       "       'Новокузнецкий Муниципальный Банк', 'Славянский Кредит',\n",
       "       'Басманный', 'Прокоммерцбанк', 'Автоградбанк', 'Углеметбанк',\n",
       "       'Кор', 'Сетевая Расчетная Палата', 'Дом-Банк', 'ПК-Банк',\n",
       "       'Банк Инноваций и Развития', 'Рост', 'Татагропромбанк',\n",
       "       'Банк Расчетов и Сбережений', 'Линк-Банк', 'КС Банк', 'Викинг',\n",
       "       'Русский Финансовый Альянс', 'Столичный Кредит', 'Природа',\n",
       "       'Мигом', 'Металлург', 'Акибанк', 'Еврофинанс Моснарбанк', 'ВЕБРР',\n",
       "       'Невастройинвест', 'НОМОС-Банк-Сибирь',\n",
       "       'Межрегиональный промышленно-строительный банк', 'Алтынбанк',\n",
       "       'Тульский Расчетный Центр', 'Роспромбанк',\n",
       "       'Межрегиональный Клиринговый Банк', 'Хакасский Муниципальный Банк',\n",
       "       'Далькомбанк', 'ИК Банк', 'Гринфилдбанк', 'Местный Кредит',\n",
       "       'НОМОС-Региобанк', 'Витас Банк', 'АМБ Банк', 'Инвест-Экобанк',\n",
       "       'Банк Раунд', 'Королевский Банк Шотландии', 'Росбизнесбанк',\n",
       "       'Холдинг-Кредит', 'ПВ-Банк', 'Ермак', 'Тетраполис',\n",
       "       'Международный Инвестиционный Банк', 'Интерпромбанк',\n",
       "       'Москва-Сити', 'Интеркапитал-Банк', 'Тагилбанк', 'Земский Банк',\n",
       "       'Охотный Ряд', 'Сталь Банк', 'Донкомбанк', 'Тревел Банк',\n",
       "       'Национальный Резервный Банк', 'Уралкапиталбанк', 'УИК-Банк',\n",
       "       'Коммерческий Банк Развития', 'Лада-Кредит', 'Тольяттихимбанк',\n",
       "       'Мастер-Капитал', 'Европейский',\n",
       "       'Объединенный Банк Промышленных Инвестиций', 'Сельмашбанк',\n",
       "       'ИНГ Банк', 'Банк Развития Технологий', 'БСТ-Банк',\n",
       "       'Мой Банк. Новосибирск', 'Белгородпромстройбанк',\n",
       "       'Объединенный Резервный Банк', 'АБ Финанс', 'АМТ Банк',\n",
       "       'Банк Сосьете Женераль Восток', 'Городской Ипотечный Банк',\n",
       "       'Свердловский Губернский Банк', 'Северная Казна', 'Сведбанк',\n",
       "       'Галабанк', 'Новобанк', 'Русич Центр Банк',\n",
       "       'Эйч-Эс-Би-Си Банк (HSBC)', 'Соцгорбанк', 'Енисей',\n",
       "       'Гранд Инвест Банк', 'Мультибанк', 'Хованский',\n",
       "       'Международный Банк Санкт-Петербурга (МБСП)', 'Сиббизнесбанк',\n",
       "       'Баренцбанк', 'Донбанк', 'Потенциал', 'Ури Банк', 'Империя',\n",
       "       'Славянский Банк', 'Оренбург', 'Борский Коммерческий Банк',\n",
       "       'Петровский', 'Ураллига', 'Держава', 'Традо-Банк',\n",
       "       'Газэнергопромбанк', 'Ростпромстройбанк', 'Хоум-Банк',\n",
       "       'Прайм Финанс', 'Проминвестбанк',\n",
       "       'Нижневолжский Коммерческий Банк', 'Гарант-Инвест',\n",
       "       'Донской Народный Банк', 'Тарханы', 'Стромкомбанк',\n",
       "       'ВТБ Северо-Запад', 'Южный Региональный Банк', 'Развитие-Столица',\n",
       "       'Академический Русский Банк', 'Экспресс', 'Камабанк', 'МДМ-Банк',\n",
       "       'Ай-Си-Ай-Си-Ай Банк (ICICI)', 'Град-Банк',\n",
       "       'Нижегородпромстройбанк', 'Электроника', 'Банк Высоких Технологий',\n",
       "       'Московский Капитал', 'Национальный Торговый Банк', 'Эталонбанк',\n",
       "       'Столичный Торговый Банк', 'Юго-Восток', 'Бест Эффортс Банк',\n",
       "       'ИРС', 'Современные Стандарты Бизнеса', 'Фемили', 'Соцкредитбанк',\n",
       "       'Одинбанк', 'Южный Торговый Банк', 'Капитал Кредит', 'Форпост',\n",
       "       'Лефко-Банк', 'МБТС-Банк', 'Поволжский Немецкий Банк',\n",
       "       'Московский Залоговый Банк', 'Газинвестбанк', 'Лесбанк',\n",
       "       'Башинвестбанк', 'Эконацбанк', 'Агрохимбанк', 'СЭБ Банк',\n",
       "       'Нижний Новгород', 'Верхне-Волжский Нефтебанк', 'Ярсоцбанк',\n",
       "       'Сибконтакт', 'Русский Банкирский Дом', 'Волгопромбанк',\n",
       "       'Межпромбанк Плюс', 'Русь-Банк-Урал', 'Ноосфера',\n",
       "       'М2М Прайвет Банк', 'Южный Регион', 'Уралсиб-Юг Банк', 'Движение',\n",
       "       'Русский Банк Сбережений', 'Система', 'Северный Народный Банк',\n",
       "       'ИМПЭКСБанк', 'Национальный Стандарт', 'Жилстройбанк',\n",
       "       'Нэклис-Банк', 'Международный Промышленный Банк', 'Индустриальный',\n",
       "       'СПБРР', 'Инкасбанк', 'Петро-Аэро-Банк',\n",
       "       'Индустриальный Сберегательный Банк', 'Красбанк', 'Приполярком',\n",
       "       'Тайм Банк', 'Банкхаус Эрбе', 'Диамонд-Банк',\n",
       "       'Городской Клиентский', 'Евразия-Центр',\n",
       "       'Русские Финансовые\\xa0Традиции', 'Уралвнешторгбанк',\n",
       "       'Европроминвест', 'ВИП-Банк', 'Судкомбанк', 'Петербург-Инвест',\n",
       "       'Первое\\xa0О.\\xa0В. К.', 'Максима', 'Петровка', 'Алмазэргиэнбанк',\n",
       "       'Юникбанк', 'Витязь', 'Независимый Банк Развития', 'Бризбанк'],\n",
       "      dtype=object)"
      ]
     },
     "execution_count": 83,
     "metadata": {},
     "output_type": "execute_result"
    }
   ],
   "source": [
    "data['bank_name'].unique()"
   ]
  },
  {
   "cell_type": "code",
   "execution_count": 6,
   "metadata": {},
   "outputs": [],
   "source": [
    "import re"
   ]
  },
  {
   "cell_type": "code",
   "execution_count": 7,
   "metadata": {},
   "outputs": [
    {
     "name": "stderr",
     "output_type": "stream",
     "text": [
      "C:\\Users\\spass\\AppData\\Local\\Temp/ipykernel_9184/1822973779.py:2: FutureWarning: The default value of regex will change from True to False in a future version.\n",
      "  data['city_clean'] = data['city'].str.replace(r'^г. ', '')\n"
     ]
    }
   ],
   "source": [
    "#clean cities name\n",
    "data['city_clean'] = data['city'].str.replace(r'^г. ', '')\n",
    "data['city_clean'] = data['city_clean'].str.lower()"
   ]
  },
  {
   "cell_type": "code",
   "execution_count": 8,
   "metadata": {},
   "outputs": [
    {
     "data": {
      "text/plain": [
       "city_clean\n",
       "москва             56698\n",
       "санкт-петербург    14644\n",
       "новосибирск         2378\n",
       "екатеринбург        2373\n",
       "нижний новгород     2034\n",
       "ростов-на-дону      1928\n",
       "самара              1783\n",
       "челябинск           1537\n",
       "казань              1515\n",
       "уфа                 1316\n",
       "Name: text, dtype: int64"
      ]
     },
     "execution_count": 8,
     "metadata": {},
     "output_type": "execute_result"
    }
   ],
   "source": [
    "#Count of responses by city\n",
    "cities = data.groupby(['city_clean']).count()['text'].sort_values(ascending=False).head(10)\n",
    "cities"
   ]
  },
  {
   "cell_type": "code",
   "execution_count": 9,
   "metadata": {},
   "outputs": [],
   "source": [
    "data['bank_clean'] = data['bank_name'].str.lower()"
   ]
  },
  {
   "cell_type": "code",
   "execution_count": 10,
   "metadata": {},
   "outputs": [
    {
     "data": {
      "text/plain": [
       "bank_clean\n",
       "сбербанк россии              26327\n",
       "альфа-банк                   10224\n",
       "втб 24                        8185\n",
       "русский стандарт              7943\n",
       "хоум кредит банк              7549\n",
       "тинькофф банк                 5387\n",
       "национальный банк «траст»     4607\n",
       "ренессанс кредит              3849\n",
       "связной банк                  3775\n",
       "отп банк                      3237\n",
       "Name: text, dtype: int64"
      ]
     },
     "execution_count": 10,
     "metadata": {},
     "output_type": "execute_result"
    }
   ],
   "source": [
    "#Count of responses by bank\n",
    "banks = data.groupby(['bank_clean']).count()['text'].sort_values(ascending=False).head(10)\n",
    "banks"
   ]
  },
  {
   "cell_type": "code",
   "execution_count": 11,
   "metadata": {},
   "outputs": [
    {
     "data": {
      "image/png": "[encoded data removed]",
      "text/plain": [
       "<Figure size 576x432 with 1 Axes>"
      ]
     },
     "metadata": {
      "needs_background": "light"
     },
     "output_type": "display_data"
    }
   ],
   "source": [
    "len_c = data.text.apply(len)\n",
    "rcParams['figure.figsize'] = 8, 6\n",
    "len_c.plot(kind='hist',bins=50)\n",
    "plt.xlabel('Длины отзывов в символах')\n",
    "plt.ylabel('')\n",
    "plt.show()"
   ]
  },
  {
   "cell_type": "code",
   "execution_count": 12,
   "metadata": {},
   "outputs": [
    {
     "data": {
      "image/png": "[encoded data removed]",
      "text/plain": [
       "<Figure size 576x432 with 1 Axes>"
      ]
     },
     "metadata": {
      "needs_background": "light"
     },
     "output_type": "display_data"
    }
   ],
   "source": [
    "len_t = data.text.str.split().apply(len)\n",
    "rcParams['figure.figsize'] = 8, 6\n",
    "len_t.plot(kind='hist',bins=50)\n",
    "plt.xlabel('Длины отзывов в словах')\n",
    "plt.ylabel('')\n",
    "plt.show()"
   ]
  },
  {
   "cell_type": "markdown",
   "metadata": {},
   "source": [
    "### Preprocessing, calculation of top 10 words, words w/o stopwords, lemmas and noun"
   ]
  },
  {
   "cell_type": "code",
   "execution_count": 13,
   "metadata": {},
   "outputs": [],
   "source": [
    "from matplotlib import pyplot as plt\n",
    "from nltk.tokenize import word_tokenize\n",
    "import string\n",
    "from string import punctuation"
   ]
  },
  {
   "cell_type": "code",
   "execution_count": 14,
   "metadata": {},
   "outputs": [],
   "source": [
    "data['word_tokenize'] = data['text'].apply(word_tokenize)"
   ]
  },
  {
   "cell_type": "code",
   "execution_count": 15,
   "metadata": {},
   "outputs": [],
   "source": [
    "def remove_punctuation(words):\n",
    "    # Define a set of punctuation marks to remove\n",
    "    punct = set(string.punctuation + ':')\n",
    "    \n",
    "    # Iterate over each word in the list and remove any punctuation marks\n",
    "    words_clean = []\n",
    "    for word in words:\n",
    "        if word not in punct:\n",
    "            words_clean.append(word)\n",
    "    \n",
    "    # Return the cleaned list of words\n",
    "    return words_clean\n",
    "# Apply the remove_punctuation function to the \"words\" column using apply()\n",
    "data['word_tokenize_no_punctuation'] = data['word_tokenize'].apply(remove_punctuation)\n"
   ]
  },
  {
   "cell_type": "code",
   "execution_count": 17,
   "metadata": {},
   "outputs": [
    {
     "name": "stderr",
     "output_type": "stream",
     "text": [
      "C:\\Users\\spass\\AppData\\Local\\Temp/ipykernel_9184/3701011183.py:11: TqdmDeprecationWarning: This function will be removed in tqdm==5.0.0\n",
      "Please use `tqdm.notebook.tqdm` instead of `tqdm.tqdm_notebook`\n",
      "  for index, row in tqdm(data.iterrows(), total = len(data)):\n"
     ]
    },
    {
     "data": {
      "application/vnd.jupyter.widget-view+json": {
       "model_id": "edd03b4891a146eb86b62ddb996155a2",
       "version_major": 2,
       "version_minor": 0
      },
      "text/plain": [
       "  0%|          | 0/153499 [00:00<?, ?it/s]"
      ]
     },
     "metadata": {},
     "output_type": "display_data"
    },
    {
     "name": "stdout",
     "output_type": "stream",
     "text": [
      "('в', 1169557)\n",
      "('и', 980761)\n",
      "('не', 816419)\n",
      "('на', 638715)\n",
      "('что', 603171)\n",
      "('я', 443478)\n",
      "('с', 428021)\n",
      "('по', 338743)\n",
      "('мне', 293980)\n",
      "('банка', 235176)\n"
     ]
    }
   ],
   "source": [
    "# Top 10 words\n",
    "from collections import Counter\n",
    "from tqdm import tqdm_notebook as tqdm\n",
    "from collections import Counter   \n",
    "\n",
    "cnt = Counter()\n",
    "n_types = []\n",
    "n_tokens = []\n",
    "tokens = []\n",
    "\n",
    "for index, row in tqdm(data.iterrows(), total = len(data)):\n",
    "    tokens = row['word_tokenize_no_punctuation']\n",
    "    cnt.update(tokens)\n",
    "    n_types.append(len(cnt))\n",
    "    n_tokens.append(sum(list(cnt.values())))\n",
    "\n",
    "for i in cnt.most_common(10):\n",
    "    print(i)"
   ]
  },
  {
   "cell_type": "code",
   "execution_count": 18,
   "metadata": {},
   "outputs": [],
   "source": [
    "from nltk.corpus import stopwords\n",
    "from nltk.stem import WordNetLemmatizer"
   ]
  },
  {
   "cell_type": "code",
   "execution_count": 19,
   "metadata": {},
   "outputs": [],
   "source": [
    "def tokenize_and_remove_stopwords(text):\n",
    "    tokens = nltk.word_tokenize(text)\n",
    "    tokens = [token.lower() for token in tokens if token.isalpha()]\n",
    "    filtered_tokens = []\n",
    "    for token in tokens:\n",
    "        if token not in stopwords.words('russian') + ['это', 'наш' , 'тыс', 'млн', 'млрд', 'также', 'т', 'д', 'г']:\n",
    "            filtered_tokens.append(token)\n",
    "    return filtered_tokens\n",
    "\n",
    "# Apply the remove_stopwords function to the \"words\" column using apply()\n",
    "data['words_clean'] = data.iloc[:10000]['text'].apply(tokenize_and_remove_stopwords)"
   ]
  },
  {
   "cell_type": "code",
   "execution_count": 21,
   "metadata": {},
   "outputs": [
    {
     "name": "stdout",
     "output_type": "stream",
     "text": [
      "банка: 16676\n",
      "банк: 12868\n",
      "деньги: 6986\n",
      "карты: 5964\n",
      "карту: 5618\n",
      "день: 4711\n",
      "кредит: 4631\n",
      "заявление: 3933\n",
      "банке: 3776\n",
      "года: 3694\n"
     ]
    }
   ],
   "source": [
    "# Top 10 words without stopwords\n",
    "\n",
    "# Concatenate all the token lists into a single list\n",
    "all_tokens_c = []\n",
    "for token_list_ in data.iloc[:10000]['words_clean']:\n",
    "    for token_ in token_list_:\n",
    "        all_tokens_c.append(token_)\n",
    "\n",
    "# Count the frequency of each token using collections.Counter\n",
    "token_counts_ = Counter(all_tokens_c)\n",
    "\n",
    "# Get the 10 most common tokens\n",
    "top_tokens_ = token_counts_.most_common(10)\n",
    "\n",
    "# Print the top tokens and their frequencies\n",
    "for token_, count in top_tokens_:\n",
    "    print(f\"{token_}: {count}\")"
   ]
  },
  {
   "cell_type": "code",
   "execution_count": 22,
   "metadata": {},
   "outputs": [],
   "source": [
    "from pymystem3 import Mystem"
   ]
  },
  {
   "cell_type": "code",
   "execution_count": 26,
   "metadata": {},
   "outputs": [],
   "source": [
    "# Load Mystem\n",
    "mystem = Mystem()\n",
    "\n",
    "# Define a function to remove stopwords and create lemmas using Mystem\n",
    "def preprocess(text):\n",
    "    mystoplemmas = stopwords.words('russian') + ['который','прошлый','сей', 'свой', 'наш', 'мочь', 'г']\n",
    "    tokens = mystem.lemmatize(text.lower())\n",
    "    lemmas = []\n",
    "    for token in tokens:\n",
    "        if token.isalpha() and token not in mystoplemmas:\n",
    "            lemmas.append(token)\n",
    "    return ' '.join(lemmas)\n",
    "# Apply the preprocess function to a column in a dataframe\n",
    "data['lemmas'] = data.iloc[:10000]['text'].apply(preprocess)"
   ]
  },
  {
   "cell_type": "code",
   "execution_count": 27,
   "metadata": {},
   "outputs": [
    {
     "name": "stdout",
     "output_type": "stream",
     "text": [
      "банк 38240\n",
      "карта 18947\n",
      "это 13155\n",
      "день 10072\n",
      "кредит 9775\n",
      "деньги 9577\n",
      "сотрудник 9375\n",
      "клиент 7981\n",
      "счет 7892\n",
      "весь 7622\n"
     ]
    }
   ],
   "source": [
    "# Top 10 lemmas without stopwords\n",
    "\n",
    "# создаем счетчик для подсчета слов\n",
    "word_counter = Counter()\n",
    "\n",
    "# итерируемся по всем строкам в колонке \"lemmas\" \n",
    "for row in data.iloc[:10000]['lemmas']:\n",
    "    regex = re.compile(r'\\b\\w+\\b')\n",
    "    # используем регулярное выражение для распарсивания строки на слова\n",
    "    words_ = regex.findall(row.lower())\n",
    "    # обновляем счетчик слов\n",
    "    word_counter.update(words_)\n",
    "\n",
    "# выводим 10 наиболее часто встречающихся слов\n",
    "for word, count in word_counter.most_common(10):\n",
    "    print(word, count)"
   ]
  },
  {
   "cell_type": "code",
   "execution_count": 28,
   "metadata": {},
   "outputs": [],
   "source": [
    "#nouns identification\n",
    "mystem = Mystem()\n",
    "def get_nouns(text):\n",
    "    nouns = []\n",
    "    for token in mystem.analyze(text):\n",
    "        if token.get('analysis'):\n",
    "            pos = token['analysis'][0]['gr'].split(',')[0]\n",
    "            if pos == 'S':\n",
    "                nouns.append(token['analysis'][0]['lex'])\n",
    "    return ' '.join(nouns)\n"
   ]
  },
  {
   "cell_type": "code",
   "execution_count": 29,
   "metadata": {},
   "outputs": [],
   "source": [
    "# Применение функции к столбцу DataFrame \"lemmas\n",
    "data['nouns'] = data.iloc[:10000]['lemmas'].apply(get_nouns)\n"
   ]
  },
  {
   "cell_type": "code",
   "execution_count": 30,
   "metadata": {},
   "outputs": [
    {
     "name": "stdout",
     "output_type": "stream",
     "text": [
      "банк 40982\n",
      "карта 18947\n",
      "день 10072\n",
      "кредит 9775\n",
      "деньги 9577\n",
      "сотрудник 9375\n",
      "клиент 7981\n",
      "счет 7892\n",
      "сумма 6995\n",
      "отделение 6909\n"
     ]
    }
   ],
   "source": [
    "# Top 10 nouns without stopwords\n",
    "\n",
    "# создаем счетчик для подсчета слов\n",
    "word_counter_1 = Counter()\n",
    "\n",
    "# итерируемся по всем строкам в колонке \"nouns\" \n",
    "for row_1 in data.iloc[:10000]['nouns']:\n",
    "    regex = re.compile(r'\\b\\w+\\b')\n",
    "    # используем регулярное выражение для распарсивания строки на слова\n",
    "    words_1 = regex.findall(row_1.lower())\n",
    "    # обновляем счетчик слов\n",
    "    word_counter_1.update(words_1)\n",
    "\n",
    "# выводим 10 наиболее часто встречающихся слов\n",
    "for word_1, count in word_counter_1.most_common(10):\n",
    "    print(word_1, count)"
   ]
  },
  {
   "cell_type": "markdown",
   "metadata": {},
   "source": [
    "### Hick's law and Zipf's law"
   ]
  },
  {
   "cell_type": "code",
   "execution_count": 31,
   "metadata": {},
   "outputs": [
    {
     "data": {
      "image/png": "[encoded data removed]",
      "text/plain": [
       "<Figure size 864x288 with 1 Axes>"
      ]
     },
     "metadata": {
      "needs_background": "light"
     },
     "output_type": "display_data"
    }
   ],
   "source": [
    "#Zipf's law\n",
    "freqs = list(word_counter.values())\n",
    "freqs = sorted(freqs, reverse = True)\n",
    "\n",
    "fig, ax = plt.subplots(figsize=(12,4))\n",
    "ax.plot(freqs[:300], range(300))\n",
    "plt.xlabel('Номер слова')\n",
    "plt.ylabel('Частота слова')\n",
    "plt.title('Кривая Ципфа')\n",
    "plt.show()"
   ]
  },
  {
   "cell_type": "code",
   "execution_count": 33,
   "metadata": {},
   "outputs": [
    {
     "data": {
      "image/png": "[encoded data removed]",
      "text/plain": [
       "<Figure size 864x288 with 1 Axes>"
      ]
     },
     "metadata": {
      "needs_background": "light"
     },
     "output_type": "display_data"
    }
   ],
   "source": [
    "fig, ax = plt.subplots(figsize=(12,4))\n",
    "ax.plot(n_tokens,n_types)\n",
    "plt.xlabel('Количество  токенов')\n",
    "plt.ylabel('Число слов')\n",
    "plt.title('Кривая Хипса')\n",
    "plt.show()"
   ]
  },
  {
   "cell_type": "markdown",
   "metadata": {},
   "source": [
    "### Frequency of words \"сотрудник\" или \"клиент\" and \"мошенничество\" и \"доверие\""
   ]
  },
  {
   "cell_type": "code",
   "execution_count": 37,
   "metadata": {},
   "outputs": [],
   "source": [
    "from nltk import FreqDist\n",
    "Freq_Dist = FreqDist(all_tokens_c)"
   ]
  },
  {
   "cell_type": "code",
   "execution_count": 38,
   "metadata": {},
   "outputs": [
    {
     "name": "stdout",
     "output_type": "stream",
     "text": [
      "Слово \"сотрудник\" встречается -\" 2229 раз\n",
      "Слово \"клиент\" встречается -\" 970 раз\n"
     ]
    }
   ],
   "source": [
    "print('Слово \"сотрудник\" встречается -\"',Freq_Dist['сотрудник'],'раз')\n",
    "print('Слово \"клиент\" встречается -\"',Freq_Dist['клиент'],'раз')"
   ]
  },
  {
   "cell_type": "code",
   "execution_count": 39,
   "metadata": {},
   "outputs": [
    {
     "name": "stdout",
     "output_type": "stream",
     "text": [
      "Слово \"мошенничество\" встречается -\" 84 раз\n",
      "Слово \"доверие\" встречается -\" 85 раз\n"
     ]
    }
   ],
   "source": [
    "print('Слово \"мошенничество\" встречается -\"',Freq_Dist['мошенничество'],'раз')\n",
    "print('Слово \"доверие\" встречается -\"',Freq_Dist['доверие'],'раз')"
   ]
  },
  {
   "cell_type": "markdown",
   "metadata": {},
   "source": [
    "### Key words and bi-gramms"
   ]
  },
  {
   "cell_type": "code",
   "execution_count": 40,
   "metadata": {},
   "outputs": [
    {
     "data": {
      "text/plain": [
       "1.0    47387\n",
       "5.0    14713\n",
       "2.0    13509\n",
       "3.0     9261\n",
       "4.0     3788\n",
       "Name: rating_grade, dtype: int64"
      ]
     },
     "execution_count": 40,
     "metadata": {},
     "output_type": "execute_result"
    }
   ],
   "source": [
    "data['rating_grade'].value_counts()"
   ]
  },
  {
   "cell_type": "code",
   "execution_count": 41,
   "metadata": {},
   "outputs": [
    {
     "data": {
      "text/plain": [
       "1.0    10000\n",
       "5.0    10000\n",
       "Name: rating_grade, dtype: int64"
      ]
     },
     "execution_count": 41,
     "metadata": {},
     "output_type": "execute_result"
    }
   ],
   "source": [
    "num=10000\n",
    "\n",
    "df_sample = data[(data.rating_grade==1)].sample(n=num).copy()\n",
    "df_sample = df_sample.append(data[(data.rating_grade==5)].sample(n=num))\n",
    "\n",
    "df_sample.rating_grade.value_counts()"
   ]
  },
  {
   "cell_type": "code",
   "execution_count": 42,
   "metadata": {},
   "outputs": [],
   "source": [
    "tokens_by_topic = []\n",
    "\n",
    "for rating in df_sample.rating_grade.unique():\n",
    "    tokens_k=[]\n",
    "    sample=df_sample[df_sample['rating_grade']==rating]\n",
    "    \n",
    "    for i in range(len(sample[sample.lemmas.notnull()])):\n",
    "        tokens_k += sample[sample.lemmas.notnull()]['lemmas'].iloc[i].split()\n",
    "        \n",
    "    tokens_by_topic.append(tokens_k)"
   ]
  },
  {
   "cell_type": "markdown",
   "metadata": {},
   "source": [
    "### Unigramms"
   ]
  },
  {
   "cell_type": "code",
   "execution_count": 43,
   "metadata": {},
   "outputs": [],
   "source": [
    "from sklearn.feature_extraction.text import TfidfVectorizer\n",
    "import numpy as np\n",
    "\n",
    "tfidf = TfidfVectorizer(analyzer='word', ngram_range=(1,1), min_df = 0)\n",
    "tfidf_matrix =  tfidf.fit_transform([' '.join(tokens) for tokens in tokens_by_topic])\n",
    "feature_names = tfidf.get_feature_names() \n",
    "tfidf_ranking_5 = []\n",
    "tfidf_ranking_1 = []\n",
    "dense = tfidf_matrix.todense()\n",
    "\n",
    "text = dense[1].tolist()[0]\n",
    "phrase_scores = [pair for pair in zip(range(0, len(text)), text) if pair[1] > 0]\n",
    "sorted_phrase_scores = sorted(phrase_scores, key=lambda t: t[1] * -1)\n",
    "phrases = []\n",
    "\n",
    "for phrase, score in [(feature_names[word_id], score) for (word_id, score) in sorted_phrase_scores][:70]:\n",
    "    tfidf_ranking_5.append(phrase)\n",
    "    \n",
    "text = dense[0].tolist()[0]\n",
    "phrase_scores = [pair for pair in zip(range(0, len(text)), text) if pair[1] > 0]\n",
    "sorted_phrase_scores = sorted(phrase_scores, key=lambda t: t[1] * -1)\n",
    "phrases = []\n",
    "\n",
    "for phrase, score in [(feature_names[word_id], score) for (word_id, score) in sorted_phrase_scores][:70]:\n",
    "    tfidf_ranking_1.append(phrase)"
   ]
  },
  {
   "cell_type": "code",
   "execution_count": 44,
   "metadata": {},
   "outputs": [
    {
     "data": {
      "text/html": [
       "<div>\n",
       "<style scoped>\n",
       "    .dataframe tbody tr th:only-of-type {\n",
       "        vertical-align: middle;\n",
       "    }\n",
       "\n",
       "    .dataframe tbody tr th {\n",
       "        vertical-align: top;\n",
       "    }\n",
       "\n",
       "    .dataframe thead th {\n",
       "        text-align: right;\n",
       "    }\n",
       "</style>\n",
       "<table border=\"1\" class=\"dataframe\">\n",
       "  <thead>\n",
       "    <tr style=\"text-align: right;\">\n",
       "      <th></th>\n",
       "      <th>tfidf_ranking_5</th>\n",
       "      <th>tfidf_ranking_1</th>\n",
       "    </tr>\n",
       "  </thead>\n",
       "  <tbody>\n",
       "    <tr>\n",
       "      <th>0</th>\n",
       "      <td>банк</td>\n",
       "      <td>банк</td>\n",
       "    </tr>\n",
       "    <tr>\n",
       "      <th>1</th>\n",
       "      <td>карта</td>\n",
       "      <td>карта</td>\n",
       "    </tr>\n",
       "    <tr>\n",
       "      <th>2</th>\n",
       "      <td>весь</td>\n",
       "      <td>это</td>\n",
       "    </tr>\n",
       "    <tr>\n",
       "      <th>3</th>\n",
       "      <td>это</td>\n",
       "      <td>сотрудник</td>\n",
       "    </tr>\n",
       "    <tr>\n",
       "      <th>4</th>\n",
       "      <td>сотрудник</td>\n",
       "      <td>деньги</td>\n",
       "    </tr>\n",
       "    <tr>\n",
       "      <th>5</th>\n",
       "      <td>клиент</td>\n",
       "      <td>день</td>\n",
       "    </tr>\n",
       "    <tr>\n",
       "      <th>6</th>\n",
       "      <td>очень</td>\n",
       "      <td>отделение</td>\n",
       "    </tr>\n",
       "    <tr>\n",
       "      <th>7</th>\n",
       "      <td>день</td>\n",
       "      <td>кредит</td>\n",
       "    </tr>\n",
       "    <tr>\n",
       "      <th>8</th>\n",
       "      <td>отделение</td>\n",
       "      <td>сказать</td>\n",
       "    </tr>\n",
       "    <tr>\n",
       "      <th>9</th>\n",
       "      <td>вклад</td>\n",
       "      <td>счет</td>\n",
       "    </tr>\n",
       "  </tbody>\n",
       "</table>\n",
       "</div>"
      ],
      "text/plain": [
       "  tfidf_ranking_5 tfidf_ranking_1\n",
       "0            банк            банк\n",
       "1           карта           карта\n",
       "2            весь             это\n",
       "3             это       сотрудник\n",
       "4       сотрудник          деньги\n",
       "5          клиент            день\n",
       "6           очень       отделение\n",
       "7            день          кредит\n",
       "8       отделение         сказать\n",
       "9           вклад            счет"
      ]
     },
     "execution_count": 44,
     "metadata": {},
     "output_type": "execute_result"
    }
   ],
   "source": [
    "rank = pd.DataFrame({'tfidf_ranking_5': tfidf_ranking_5,'tfidf_ranking_1': tfidf_ranking_1})\n",
    "rank.head(10)"
   ]
  },
  {
   "cell_type": "code",
   "execution_count": 45,
   "metadata": {},
   "outputs": [],
   "source": [
    "#remove cross-words\n",
    "\n",
    "rank['tfidf_ranking_5_without_1']=rank.tfidf_ranking_5[~rank.tfidf_ranking_5.isin(rank.tfidf_ranking_1)]\n",
    "rank['tfidf_ranking_1_without_5']=rank.tfidf_ranking_1[~rank.tfidf_ranking_1.isin(rank.tfidf_ranking_5)]"
   ]
  },
  {
   "cell_type": "code",
   "execution_count": 46,
   "metadata": {},
   "outputs": [
    {
     "data": {
      "text/html": [
       "<div>\n",
       "<style scoped>\n",
       "    .dataframe tbody tr th:only-of-type {\n",
       "        vertical-align: middle;\n",
       "    }\n",
       "\n",
       "    .dataframe tbody tr th {\n",
       "        vertical-align: top;\n",
       "    }\n",
       "\n",
       "    .dataframe thead th {\n",
       "        text-align: right;\n",
       "    }\n",
       "</style>\n",
       "<table border=\"1\" class=\"dataframe\">\n",
       "  <thead>\n",
       "    <tr style=\"text-align: right;\">\n",
       "      <th></th>\n",
       "      <th>tfidf_ranking_5_without_1</th>\n",
       "      <th>tfidf_ranking_1_without_5</th>\n",
       "    </tr>\n",
       "  </thead>\n",
       "  <tbody>\n",
       "    <tr>\n",
       "      <th>17</th>\n",
       "      <td>спасибо</td>\n",
       "      <td>ответ</td>\n",
       "    </tr>\n",
       "    <tr>\n",
       "      <th>29</th>\n",
       "      <td>минута</td>\n",
       "      <td>номер</td>\n",
       "    </tr>\n",
       "    <tr>\n",
       "      <th>36</th>\n",
       "      <td>открывать</td>\n",
       "      <td>звонить</td>\n",
       "    </tr>\n",
       "    <tr>\n",
       "      <th>38</th>\n",
       "      <td>быстро</td>\n",
       "      <td>сообщать</td>\n",
       "    </tr>\n",
       "    <tr>\n",
       "      <th>40</th>\n",
       "      <td>человек</td>\n",
       "      <td>звонок</td>\n",
       "    </tr>\n",
       "    <tr>\n",
       "      <th>48</th>\n",
       "      <td>решение</td>\n",
       "      <td>почему</td>\n",
       "    </tr>\n",
       "    <tr>\n",
       "      <th>51</th>\n",
       "      <td>процент</td>\n",
       "      <td>говорить</td>\n",
       "    </tr>\n",
       "    <tr>\n",
       "      <th>53</th>\n",
       "      <td>становиться</td>\n",
       "      <td>срок</td>\n",
       "    </tr>\n",
       "    <tr>\n",
       "      <th>56</th>\n",
       "      <td>условие</td>\n",
       "      <td>принимать</td>\n",
       "    </tr>\n",
       "    <tr>\n",
       "      <th>59</th>\n",
       "      <td>благодарность</td>\n",
       "      <td>должный</td>\n",
       "    </tr>\n",
       "    <tr>\n",
       "      <th>60</th>\n",
       "      <td>помогать</td>\n",
       "      <td>неделя</td>\n",
       "    </tr>\n",
       "    <tr>\n",
       "      <th>63</th>\n",
       "      <td>также</td>\n",
       "      <td>информация</td>\n",
       "    </tr>\n",
       "    <tr>\n",
       "      <th>66</th>\n",
       "      <td>самый</td>\n",
       "      <td>ждать</td>\n",
       "    </tr>\n",
       "    <tr>\n",
       "      <th>68</th>\n",
       "      <td>являться</td>\n",
       "      <td>нужно</td>\n",
       "    </tr>\n",
       "    <tr>\n",
       "      <th>69</th>\n",
       "      <td>менеджер</td>\n",
       "      <td>вносить</td>\n",
       "    </tr>\n",
       "  </tbody>\n",
       "</table>\n",
       "</div>"
      ],
      "text/plain": [
       "   tfidf_ranking_5_without_1 tfidf_ranking_1_without_5\n",
       "17                   спасибо                     ответ\n",
       "29                    минута                     номер\n",
       "36                 открывать                   звонить\n",
       "38                    быстро                  сообщать\n",
       "40                   человек                    звонок\n",
       "48                   решение                    почему\n",
       "51                   процент                  говорить\n",
       "53               становиться                      срок\n",
       "56                   условие                 принимать\n",
       "59             благодарность                   должный\n",
       "60                  помогать                    неделя\n",
       "63                     также                информация\n",
       "66                     самый                     ждать\n",
       "68                  являться                     нужно\n",
       "69                  менеджер                   вносить"
      ]
     },
     "execution_count": 46,
     "metadata": {},
     "output_type": "execute_result"
    }
   ],
   "source": [
    "rank.iloc[:,-2:].dropna()"
   ]
  },
  {
   "cell_type": "markdown",
   "metadata": {},
   "source": [
    "### Bi-gramms"
   ]
  },
  {
   "cell_type": "code",
   "execution_count": 47,
   "metadata": {},
   "outputs": [],
   "source": [
    "from sklearn.feature_extraction.text import TfidfVectorizer\n",
    "import numpy as np\n",
    "\n",
    "tfidf = TfidfVectorizer(analyzer='word', ngram_range=(2,2), min_df = 0)\n",
    "tfidf_matrix =  tfidf.fit_transform([' '.join(tokens) for tokens in tokens_by_topic])\n",
    "feature_names = tfidf.get_feature_names() \n",
    "tfidf_ranking_rank_is_5 = []\n",
    "tfidf_ranking_rank_is_1 = []\n",
    "dense = tfidf_matrix.todense()\n",
    "\n",
    "text = dense[1].tolist()[0]\n",
    "phrase_scores = [pair for pair in zip(range(0, len(text)), text) if pair[1] > 0]\n",
    "sorted_phrase_scores = sorted(phrase_scores, key=lambda t: t[1] * -1)\n",
    "phrases = []\n",
    "\n",
    "for phrase, score in [(feature_names[word_id], score) for (word_id, score) in sorted_phrase_scores][:70]:\n",
    "    tfidf_ranking_rank_is_5.append(phrase)\n",
    "    \n",
    "text = dense[0].tolist()[0]\n",
    "phrase_scores = [pair for pair in zip(range(0, len(text)), text) if pair[1] > 0]\n",
    "sorted_phrase_scores = sorted(phrase_scores, key=lambda t: t[1] * -1)\n",
    "phrases = []\n",
    "\n",
    "for phrase, score in [(feature_names[word_id], score) for (word_id, score) in sorted_phrase_scores][:70]:\n",
    "    tfidf_ranking_rank_is_1.append(phrase) "
   ]
  },
  {
   "cell_type": "code",
   "execution_count": 48,
   "metadata": {},
   "outputs": [
    {
     "data": {
      "text/html": [
       "<div>\n",
       "<style scoped>\n",
       "    .dataframe tbody tr th:only-of-type {\n",
       "        vertical-align: middle;\n",
       "    }\n",
       "\n",
       "    .dataframe tbody tr th {\n",
       "        vertical-align: top;\n",
       "    }\n",
       "\n",
       "    .dataframe thead th {\n",
       "        text-align: right;\n",
       "    }\n",
       "</style>\n",
       "<table border=\"1\" class=\"dataframe\">\n",
       "  <thead>\n",
       "    <tr style=\"text-align: right;\">\n",
       "      <th></th>\n",
       "      <th>tfidf_ranking_rank_is_5</th>\n",
       "      <th>tfidf_ranking_rank_is_1</th>\n",
       "    </tr>\n",
       "  </thead>\n",
       "  <tbody>\n",
       "    <tr>\n",
       "      <th>0</th>\n",
       "      <td>кредитный карта</td>\n",
       "      <td>сотрудник банк</td>\n",
       "    </tr>\n",
       "    <tr>\n",
       "      <th>1</th>\n",
       "      <td>интернет банк</td>\n",
       "      <td>денежный средство</td>\n",
       "    </tr>\n",
       "    <tr>\n",
       "      <th>2</th>\n",
       "      <td>сотрудник банк</td>\n",
       "      <td>горячий линия</td>\n",
       "    </tr>\n",
       "    <tr>\n",
       "      <th>3</th>\n",
       "      <td>клиент банк</td>\n",
       "      <td>отделение банк</td>\n",
       "    </tr>\n",
       "    <tr>\n",
       "      <th>4</th>\n",
       "      <td>отделение банк</td>\n",
       "      <td>кредитный карта</td>\n",
       "    </tr>\n",
       "    <tr>\n",
       "      <th>5</th>\n",
       "      <td>выражать благодарность</td>\n",
       "      <td>написать заявление</td>\n",
       "    </tr>\n",
       "    <tr>\n",
       "      <th>6</th>\n",
       "      <td>открывать вклад</td>\n",
       "      <td>добрый день</td>\n",
       "    </tr>\n",
       "    <tr>\n",
       "      <th>7</th>\n",
       "      <td>дебетовый карта</td>\n",
       "      <td>колл центр</td>\n",
       "    </tr>\n",
       "    <tr>\n",
       "      <th>8</th>\n",
       "      <td>добрый день</td>\n",
       "      <td>приходить смс</td>\n",
       "    </tr>\n",
       "    <tr>\n",
       "      <th>9</th>\n",
       "      <td>хотеть выражать</td>\n",
       "      <td>рабочий день</td>\n",
       "    </tr>\n",
       "  </tbody>\n",
       "</table>\n",
       "</div>"
      ],
      "text/plain": [
       "  tfidf_ranking_rank_is_5 tfidf_ranking_rank_is_1\n",
       "0         кредитный карта          сотрудник банк\n",
       "1           интернет банк       денежный средство\n",
       "2          сотрудник банк           горячий линия\n",
       "3             клиент банк          отделение банк\n",
       "4          отделение банк         кредитный карта\n",
       "5  выражать благодарность      написать заявление\n",
       "6         открывать вклад             добрый день\n",
       "7         дебетовый карта              колл центр\n",
       "8             добрый день           приходить смс\n",
       "9         хотеть выражать            рабочий день"
      ]
     },
     "execution_count": 48,
     "metadata": {},
     "output_type": "execute_result"
    }
   ],
   "source": [
    "rankings = pd.DataFrame({'tfidf_ranking_rank_is_5': tfidf_ranking_rank_is_5,'tfidf_ranking_rank_is_1': tfidf_ranking_rank_is_1})\n",
    "rankings.head(10)"
   ]
  },
  {
   "cell_type": "code",
   "execution_count": 49,
   "metadata": {},
   "outputs": [],
   "source": [
    "rankings['tfidf_ranking_rank_is_5_without_1']=rankings.tfidf_ranking_rank_is_5[~rankings.tfidf_ranking_rank_is_5.isin(rankings.tfidf_ranking_rank_is_1)]\n",
    "rankings['tfidf_ranking_rank_is_1_without_5']=rankings.tfidf_ranking_rank_is_1[~rankings.tfidf_ranking_rank_is_1.isin(rankings.tfidf_ranking_rank_is_5)]\n"
   ]
  },
  {
   "cell_type": "code",
   "execution_count": 50,
   "metadata": {},
   "outputs": [
    {
     "data": {
      "text/html": [
       "<div>\n",
       "<style scoped>\n",
       "    .dataframe tbody tr th:only-of-type {\n",
       "        vertical-align: middle;\n",
       "    }\n",
       "\n",
       "    .dataframe tbody tr th {\n",
       "        vertical-align: top;\n",
       "    }\n",
       "\n",
       "    .dataframe thead th {\n",
       "        text-align: right;\n",
       "    }\n",
       "</style>\n",
       "<table border=\"1\" class=\"dataframe\">\n",
       "  <thead>\n",
       "    <tr style=\"text-align: right;\">\n",
       "      <th></th>\n",
       "      <th>tfidf_ranking_rank_is_5_without_1</th>\n",
       "      <th>tfidf_ranking_rank_is_1_without_5</th>\n",
       "    </tr>\n",
       "  </thead>\n",
       "  <tbody>\n",
       "    <tr>\n",
       "      <th>11</th>\n",
       "      <td>весь вопрос</td>\n",
       "      <td>ваш банк</td>\n",
       "    </tr>\n",
       "    <tr>\n",
       "      <th>16</th>\n",
       "      <td>благодарность сотрудник</td>\n",
       "      <td>получать ответ</td>\n",
       "    </tr>\n",
       "    <tr>\n",
       "      <th>24</th>\n",
       "      <td>приятно удивлять</td>\n",
       "      <td>офис банк</td>\n",
       "    </tr>\n",
       "    <tr>\n",
       "      <th>25</th>\n",
       "      <td>огромный благодарность</td>\n",
       "      <td>деньги счет</td>\n",
       "    </tr>\n",
       "    <tr>\n",
       "      <th>26</th>\n",
       "      <td>очень быстро</td>\n",
       "      <td>номер телефон</td>\n",
       "    </tr>\n",
       "    <tr>\n",
       "      <th>28</th>\n",
       "      <td>кредитный лимит</td>\n",
       "      <td>приходить отделение</td>\n",
       "    </tr>\n",
       "    <tr>\n",
       "      <th>32</th>\n",
       "      <td>процентный ставка</td>\n",
       "      <td>ежемесячный платеж</td>\n",
       "    </tr>\n",
       "    <tr>\n",
       "      <th>33</th>\n",
       "      <td>русский стандарт</td>\n",
       "      <td>потребительский кредит</td>\n",
       "    </tr>\n",
       "    <tr>\n",
       "      <th>34</th>\n",
       "      <td>банк это</td>\n",
       "      <td>деньги карта</td>\n",
       "    </tr>\n",
       "    <tr>\n",
       "      <th>35</th>\n",
       "      <td>весь время</td>\n",
       "      <td>кредитный договор</td>\n",
       "    </tr>\n",
       "    <tr>\n",
       "      <th>38</th>\n",
       "      <td>пользоваться услуга</td>\n",
       "      <td>сайт банк</td>\n",
       "    </tr>\n",
       "    <tr>\n",
       "      <th>40</th>\n",
       "      <td>работа банк</td>\n",
       "      <td>ваш сотрудник</td>\n",
       "    </tr>\n",
       "    <tr>\n",
       "      <th>41</th>\n",
       "      <td>решение проблема</td>\n",
       "      <td>погашение кредит</td>\n",
       "    </tr>\n",
       "    <tr>\n",
       "      <th>43</th>\n",
       "      <td>хотеть отмечать</td>\n",
       "      <td>кредитный история</td>\n",
       "    </tr>\n",
       "    <tr>\n",
       "      <th>44</th>\n",
       "      <td>хотеться выражать</td>\n",
       "      <td>сбербанк россия</td>\n",
       "    </tr>\n",
       "    <tr>\n",
       "      <th>45</th>\n",
       "      <td>вопрос решать</td>\n",
       "      <td>банковский карта</td>\n",
       "    </tr>\n",
       "    <tr>\n",
       "      <th>48</th>\n",
       "      <td>быстро оформлять</td>\n",
       "      <td>представитель банк</td>\n",
       "    </tr>\n",
       "    <tr>\n",
       "      <th>49</th>\n",
       "      <td>банк москва</td>\n",
       "      <td>допы офис</td>\n",
       "    </tr>\n",
       "    <tr>\n",
       "      <th>50</th>\n",
       "      <td>написать отзыв</td>\n",
       "      <td>закрытие счет</td>\n",
       "    </tr>\n",
       "    <tr>\n",
       "      <th>52</th>\n",
       "      <td>весь банк</td>\n",
       "      <td>сбербанк онлайн</td>\n",
       "    </tr>\n",
       "    <tr>\n",
       "      <th>53</th>\n",
       "      <td>весь документ</td>\n",
       "      <td>данный проблема</td>\n",
       "    </tr>\n",
       "    <tr>\n",
       "      <th>54</th>\n",
       "      <td>годовой обслуживание</td>\n",
       "      <td>подключать услуга</td>\n",
       "    </tr>\n",
       "    <tr>\n",
       "      <th>56</th>\n",
       "      <td>хотеть сказать</td>\n",
       "      <td>банк отвечать</td>\n",
       "    </tr>\n",
       "    <tr>\n",
       "      <th>57</th>\n",
       "      <td>это банк</td>\n",
       "      <td>график платеж</td>\n",
       "    </tr>\n",
       "    <tr>\n",
       "      <th>59</th>\n",
       "      <td>большой спасибо</td>\n",
       "      <td>снимать деньги</td>\n",
       "    </tr>\n",
       "    <tr>\n",
       "      <th>61</th>\n",
       "      <td>внимательный отношение</td>\n",
       "      <td>написать претензия</td>\n",
       "    </tr>\n",
       "    <tr>\n",
       "      <th>62</th>\n",
       "      <td>карта карта</td>\n",
       "      <td>решать вопрос</td>\n",
       "    </tr>\n",
       "    <tr>\n",
       "      <th>64</th>\n",
       "      <td>отвечать весь</td>\n",
       "      <td>сумма рубль</td>\n",
       "    </tr>\n",
       "    <tr>\n",
       "      <th>65</th>\n",
       "      <td>открытие вклад</td>\n",
       "      <td>полный объем</td>\n",
       "    </tr>\n",
       "    <tr>\n",
       "      <th>67</th>\n",
       "      <td>это очень</td>\n",
       "      <td>задавать вопрос</td>\n",
       "    </tr>\n",
       "    <tr>\n",
       "      <th>68</th>\n",
       "      <td>банк авангард</td>\n",
       "      <td>ипотечный кредит</td>\n",
       "    </tr>\n",
       "    <tr>\n",
       "      <th>69</th>\n",
       "      <td>общий задолженность</td>\n",
       "      <td>мобильный банк</td>\n",
       "    </tr>\n",
       "  </tbody>\n",
       "</table>\n",
       "</div>"
      ],
      "text/plain": [
       "   tfidf_ranking_rank_is_5_without_1 tfidf_ranking_rank_is_1_without_5\n",
       "11                       весь вопрос                          ваш банк\n",
       "16           благодарность сотрудник                    получать ответ\n",
       "24                  приятно удивлять                         офис банк\n",
       "25            огромный благодарность                       деньги счет\n",
       "26                      очень быстро                     номер телефон\n",
       "28                   кредитный лимит               приходить отделение\n",
       "32                 процентный ставка                ежемесячный платеж\n",
       "33                  русский стандарт            потребительский кредит\n",
       "34                          банк это                      деньги карта\n",
       "35                        весь время                 кредитный договор\n",
       "38               пользоваться услуга                         сайт банк\n",
       "40                       работа банк                     ваш сотрудник\n",
       "41                  решение проблема                  погашение кредит\n",
       "43                   хотеть отмечать                 кредитный история\n",
       "44                 хотеться выражать                   сбербанк россия\n",
       "45                     вопрос решать                  банковский карта\n",
       "48                  быстро оформлять                представитель банк\n",
       "49                       банк москва                         допы офис\n",
       "50                    написать отзыв                     закрытие счет\n",
       "52                         весь банк                   сбербанк онлайн\n",
       "53                     весь документ                   данный проблема\n",
       "54              годовой обслуживание                 подключать услуга\n",
       "56                    хотеть сказать                     банк отвечать\n",
       "57                          это банк                     график платеж\n",
       "59                   большой спасибо                    снимать деньги\n",
       "61            внимательный отношение                написать претензия\n",
       "62                       карта карта                     решать вопрос\n",
       "64                     отвечать весь                       сумма рубль\n",
       "65                    открытие вклад                      полный объем\n",
       "67                         это очень                   задавать вопрос\n",
       "68                     банк авангард                  ипотечный кредит\n",
       "69               общий задолженность                    мобильный банк"
      ]
     },
     "execution_count": 50,
     "metadata": {},
     "output_type": "execute_result"
    }
   ],
   "source": [
    "rankings.iloc[:,-2:].dropna()"
   ]
  },
  {
   "cell_type": "markdown",
   "metadata": {},
   "source": [
    "### Thematic modeling"
   ]
  },
  {
   "cell_type": "code",
   "execution_count": 51,
   "metadata": {},
   "outputs": [],
   "source": [
    "import gensim.corpora as corpora\n",
    "from gensim.models import ldamodel"
   ]
  },
  {
   "cell_type": "code",
   "execution_count": 53,
   "metadata": {},
   "outputs": [],
   "source": [
    "texts = []\n",
    "for i in range(len(data)):\n",
    "    if data['lemmas'].notnull().iloc[i]:\n",
    "        texts.append(data.iloc[i]['lemmas'].split())\n",
    "\n",
    "dictionary = corpora.Dictionary(texts)\n",
    "corpus = [dictionary.doc2bow(text) for text in texts]"
   ]
  },
  {
   "cell_type": "code",
   "execution_count": 54,
   "metadata": {},
   "outputs": [],
   "source": [
    "random.seed(11)"
   ]
  },
  {
   "cell_type": "code",
   "execution_count": 55,
   "metadata": {},
   "outputs": [],
   "source": [
    "lda = ldamodel.LdaModel(corpus=corpus, \n",
    "                        id2word=dictionary, \n",
    "                        num_topics=20, \n",
    "                        alpha='auto', \n",
    "                        eta='auto', \n",
    "                        iterations = 20, \n",
    "                        passes = 5)"
   ]
  },
  {
   "cell_type": "code",
   "execution_count": 56,
   "metadata": {},
   "outputs": [
    {
     "data": {
      "text/plain": [
       "[(13,\n",
       "  '0.050*\"птс\" + 0.033*\"moscow\" + 0.031*\"rus\" + 0.028*\"retail\" + 0.015*\"mts\" + 0.015*\"туалет\" + 0.009*\"тверь\" + 0.008*\"суперставка\" + 0.007*\"зав\" + 0.007*\"ненадежный\"'),\n",
       " (10,\n",
       "  '0.052*\"данные\" + 0.049*\"персональный\" + 0.029*\"согласие\" + 0.026*\"обработка\" + 0.019*\"давать\" + 0.019*\"пристав\" + 0.017*\"банк\" + 0.017*\"судебный\" + 0.014*\"требование\" + 0.014*\"жалоба\"'),\n",
       " (18,\n",
       "  '0.066*\"деньги\" + 0.030*\"банкомат\" + 0.028*\"банк\" + 0.022*\"счет\" + 0.021*\"день\" + 0.020*\"карта\" + 0.019*\"средство\" + 0.015*\"снимать\" + 0.014*\"сумма\" + 0.014*\"комиссия\"'),\n",
       " (14,\n",
       "  '0.042*\"банк\" + 0.023*\"клиент\" + 0.013*\"очень\" + 0.013*\"это\" + 0.012*\"весь\" + 0.010*\"обслуживание\" + 0.008*\"карта\" + 0.007*\"вопрос\" + 0.007*\"год\" + 0.007*\"сотрудник\"'),\n",
       " (15,\n",
       "  '0.040*\"банк\" + 0.023*\"звонок\" + 0.020*\"номер\" + 0.019*\"ваш\" + 0.018*\"сотрудник\" + 0.016*\"телефон\" + 0.013*\"звонить\" + 0.013*\"кредит\" + 0.010*\"это\" + 0.010*\"данный\"')]"
      ]
     },
     "execution_count": 56,
     "metadata": {},
     "output_type": "execute_result"
    }
   ],
   "source": [
    "# 20 themes, random 5 topics\n",
    "lda.show_topics(5)"
   ]
  },
  {
   "cell_type": "code",
   "execution_count": 57,
   "metadata": {},
   "outputs": [],
   "source": [
    "lda15 = ldamodel.LdaModel(corpus=corpus, \n",
    "                          id2word=dictionary, \n",
    "                          num_topics=15, \n",
    "                          alpha='auto', \n",
    "                          eta='auto', \n",
    "                          iterations = 20, \n",
    "                          passes = 5)"
   ]
  },
  {
   "cell_type": "code",
   "execution_count": 58,
   "metadata": {},
   "outputs": [
    {
     "data": {
      "text/plain": [
       "[(8,\n",
       "  '0.051*\"кредит\" + 0.034*\"страховка\" + 0.024*\"страхование\" + 0.019*\"банк\" + 0.019*\"заявка\" + 0.015*\"сотрудник\" + 0.015*\"сказать\" + 0.015*\"страховой\" + 0.014*\"оформлять\" + 0.014*\"это\"'),\n",
       " (1,\n",
       "  '0.044*\"банк\" + 0.020*\"средство\" + 0.017*\"платежный\" + 0.015*\"клиент\" + 0.013*\"денежный\" + 0.013*\"система\" + 0.012*\"операция\" + 0.012*\"перевод\" + 0.010*\"услуга\" + 0.010*\"счет\"'),\n",
       " (10,\n",
       "  '0.028*\"сотрудник\" + 0.023*\"банк\" + 0.021*\"отделение\" + 0.013*\"вопрос\" + 0.012*\"клиент\" + 0.010*\"офис\" + 0.010*\"работа\" + 0.009*\"обращаться\" + 0.008*\"весь\" + 0.008*\"хотеть\"'),\n",
       " (5,\n",
       "  '0.036*\"банк\" + 0.027*\"звонок\" + 0.025*\"номер\" + 0.019*\"телефон\" + 0.019*\"ваш\" + 0.018*\"сотрудник\" + 0.017*\"звонить\" + 0.011*\"кредит\" + 0.010*\"это\" + 0.009*\"данный\"'),\n",
       " (6,\n",
       "  '0.033*\"банк\" + 0.017*\"это\" + 0.012*\"весь\" + 0.011*\"клиент\" + 0.009*\"очень\" + 0.009*\"сказать\" + 0.009*\"время\" + 0.007*\"день\" + 0.006*\"решать\" + 0.006*\"девушка\"')]"
      ]
     },
     "execution_count": 58,
     "metadata": {},
     "output_type": "execute_result"
    }
   ],
   "source": [
    "# 15 themes, random 5 topics\n",
    "lda15.show_topics(num_topics=5, num_words=10)"
   ]
  },
  {
   "cell_type": "code",
   "execution_count": 98,
   "metadata": {},
   "outputs": [],
   "source": [
    "vtb_topics = []\n",
    "for i in range(lda.num_topics):\n",
    "    topic_terms = lda.get_topic_terms(i, topn=10)\n",
    "    topic_words = [dictionary.get(term[0]) for term in topic_terms]\n",
    "    if 'втб' in topic_words:\n",
    "        vtb_topics.append(i)\n",
    "\n",
    "# выведем темы, связанные с ВТБ\n",
    "for i in vtb_topics:\n",
    "    print(f\"Тема {i}:\")\n",
    "    print(lda.print_topic(i))\n",
    "    print()"
   ]
  },
  {
   "cell_type": "code",
   "execution_count": 67,
   "metadata": {},
   "outputs": [
    {
     "name": "stdout",
     "output_type": "stream",
     "text": [
      "Тема 12:\n",
      "0.037*\"документ\" + 0.019*\"день\" + 0.019*\"сказать\" + 0.017*\"отделение\" + 0.015*\"сбербанк\" + 0.013*\"заявление\" + 0.012*\"справка\" + 0.011*\"сотрудник\" + 0.011*\"менеджер\" + 0.009*\"приходить\"\n",
      "\n",
      "Тема 17:\n",
      "0.104*\"карта\" + 0.035*\"отделение\" + 0.025*\"заявление\" + 0.021*\"банк\" + 0.020*\"сбербанк\" + 0.019*\"сотрудник\" + 0.014*\"получать\" + 0.014*\"счет\" + 0.012*\"обращаться\" + 0.009*\"это\"\n",
      "\n"
     ]
    }
   ],
   "source": [
    "sber_topics = []\n",
    "for i in range(lda.num_topics):\n",
    "    topic_terms = lda.get_topic_terms(i, topn=10)\n",
    "    topic_words = [dictionary.get(term[0]) for term in topic_terms]\n",
    "    if 'сбербанк' in topic_words:\n",
    "        sber_topics.append(i)\n",
    "\n",
    "# выведем темы, связанные с ВТБ\n",
    "for i in sber_topics:\n",
    "    print(f\"Тема {i}:\")\n",
    "    print(lda.print_topic(i))\n",
    "    print()"
   ]
  },
  {
   "cell_type": "markdown",
   "metadata": {
    "id": "AJ39G_RaqauR"
   },
   "source": [
    "## Классификация текстов"
   ]
  },
  {
   "cell_type": "code",
   "execution_count": 99,
   "metadata": {},
   "outputs": [],
   "source": [
    "X = df_sample[df_sample['lemmas'].notnull()]['lemmas'].values\n",
    "y = df_sample[df_sample['lemmas'].notnull()].rating_grade.values"
   ]
  },
  {
   "cell_type": "code",
   "execution_count": 100,
   "metadata": {},
   "outputs": [],
   "source": [
    "from sklearn.model_selection import train_test_split, GridSearchCV\n",
    "from sklearn.pipeline import Pipeline, FeatureUnion\n",
    "from sklearn.base import BaseEstimator, TransformerMixin\n",
    "from sklearn.feature_extraction.text import CountVectorizer, TfidfTransformer\n",
    "from sklearn.feature_extraction import DictVectorizer\n",
    "from sklearn.preprocessing import StandardScaler, OneHotEncoder\n",
    "from sklearn.decomposition import TruncatedSVD, LatentDirichletAllocation\n",
    "from sklearn.ensemble import RandomForestClassifier\n",
    "from sklearn.metrics import precision_score, recall_score, f1_score, accuracy_score, classification_report, confusion_matrix"
   ]
  },
  {
   "cell_type": "code",
   "execution_count": 101,
   "metadata": {},
   "outputs": [],
   "source": [
    "from sklearn.naive_bayes import MultinomialNB\n",
    "from sklearn.feature_extraction.text import CountVectorizer\n",
    "from sklearn.linear_model import LogisticRegression\n",
    "from sklearn import svm\n",
    "from sklearn.pipeline import Pipeline\n",
    "from sklearn.ensemble import RandomForestClassifier"
   ]
  },
  {
   "cell_type": "code",
   "execution_count": 102,
   "metadata": {},
   "outputs": [],
   "source": [
    "X_train, X_test, y_train, y_test = train_test_split(X, y, test_size=0.3)"
   ]
  },
  {
   "cell_type": "code",
   "execution_count": 103,
   "metadata": {},
   "outputs": [],
   "source": [
    "clf_countvectorized = Pipeline(\n",
    "    [('vect', CountVectorizer()),\n",
    "     ('clf', LogisticRegression())]\n",
    ")\n",
    "\n",
    "params_cntv = {\n",
    "    'vect__analyzer': ['word','char'],\n",
    "    'vect__max_df': (0.5, 0.75, 1.0),\n",
    "    'vect__ngram_range': ((1, 1), (2, 2), (3, 3)),\n",
    "    'clf__C': np.logspace(-3,3,7),\n",
    "    'clf__penalty': ['l1','l2']  \n",
    "}\n",
    "\n",
    "scores=['accuracy', 'f1']"
   ]
  },
  {
   "cell_type": "code",
   "execution_count": 104,
   "metadata": {},
   "outputs": [],
   "source": [
    "grid_cntv = GridSearchCV(\n",
    "    clf_countvectorized, \n",
    "    param_grid=params_cntv, \n",
    "    cv=3,\n",
    "    scoring=scores,\n",
    "    refit=scores[0],\n",
    "    n_jobs=-1, \n",
    "    verbose=1\n",
    ")"
   ]
  },
  {
   "cell_type": "code",
   "execution_count": 105,
   "metadata": {},
   "outputs": [
    {
     "name": "stdout",
     "output_type": "stream",
     "text": [
      "Fitting 3 folds for each of 252 candidates, totalling 756 fits\n"
     ]
    },
    {
     "name": "stderr",
     "output_type": "stream",
     "text": [
      "C:\\Users\\spass\\anaconda3\\lib\\site-packages\\sklearn\\model_selection\\_search.py:922: UserWarning: One or more of the test scores are non-finite: [       nan        nan        nan        nan        nan        nan\n",
      "        nan        nan        nan        nan        nan        nan\n",
      "        nan        nan        nan        nan        nan        nan\n",
      " 0.64379085 0.63888889 0.63888889 0.6503268  0.63888889 0.63888889\n",
      " 0.64869281 0.63888889 0.63888889 0.63888889 0.66666667 0.84313725\n",
      " 0.63888889 0.76633987 0.8496732  0.70424837 0.80882353 0.84640523\n",
      "        nan        nan        nan        nan        nan        nan\n",
      "        nan        nan        nan        nan        nan        nan\n",
      "        nan        nan        nan        nan        nan        nan\n",
      " 0.85947712 0.63888889 0.63888889 0.86437908 0.63888889 0.63888889\n",
      " 0.86601307 0.63888889 0.63888889 0.64052288 0.79084967 0.86928105\n",
      " 0.63888889 0.83006536 0.89052288 0.70098039 0.81045752 0.87254902\n",
      "        nan        nan        nan        nan        nan        nan\n",
      "        nan        nan        nan        nan        nan        nan\n",
      "        nan        nan        nan        nan        nan        nan\n",
      " 0.88071895 0.69771242 0.63888889 0.87581699 0.69771242 0.63888889\n",
      " 0.87908497 0.69771242 0.63888889 0.64052288 0.7875817  0.87745098\n",
      " 0.63398693 0.83333333 0.8872549  0.70424837 0.8120915  0.87745098\n",
      "        nan        nan        nan        nan        nan        nan\n",
      "        nan        nan        nan        nan        nan        nan\n",
      "        nan        nan        nan        nan        nan        nan\n",
      " 0.87581699 0.77614379 0.63888889 0.87418301 0.77614379 0.63888889\n",
      " 0.87581699 0.77614379 0.63888889 0.6372549  0.7630719  0.87254902\n",
      " 0.63562092 0.81862745 0.88071895 0.70915033 0.80392157 0.88562092\n",
      "        nan        nan        nan        nan        nan        nan\n",
      "        nan        nan        nan        nan        nan        nan\n",
      "        nan        nan        nan        nan        nan        nan\n",
      " 0.87581699 0.78267974 0.6372549  0.88235294 0.78267974 0.6372549\n",
      " 0.88235294 0.78267974 0.6372549  0.63235294 0.75980392 0.86928105\n",
      " 0.62908497 0.82026144 0.88071895 0.70098039 0.80228758 0.88562092\n",
      "        nan        nan        nan        nan        nan        nan\n",
      "        nan        nan        nan        nan        nan        nan\n",
      "        nan        nan        nan        nan        nan        nan\n",
      " 0.87745098 0.7875817  0.6372549  0.88398693 0.7875817  0.6372549\n",
      " 0.88071895 0.7875817  0.6372549  0.62418301 0.75163399 0.86764706\n",
      " 0.62745098 0.81535948 0.87745098 0.69771242 0.79738562 0.88235294\n",
      "        nan        nan        nan        nan        nan        nan\n",
      "        nan        nan        nan        nan        nan        nan\n",
      "        nan        nan        nan        nan        nan        nan\n",
      " 0.87418301 0.79738562 0.63888889 0.88235294 0.79738562 0.63888889\n",
      " 0.88235294 0.79738562 0.63888889 0.62091503 0.75326797 0.86437908\n",
      " 0.62418301 0.81535948 0.88071895 0.70424837 0.79738562 0.88398693]\n",
      "  warnings.warn(\n",
      "C:\\Users\\spass\\anaconda3\\lib\\site-packages\\sklearn\\model_selection\\_search.py:922: UserWarning: One or more of the test scores are non-finite: [       nan        nan        nan        nan        nan        nan\n",
      "        nan        nan        nan        nan        nan        nan\n",
      "        nan        nan        nan        nan        nan        nan\n",
      " 0.7815647  0.77965859 0.77965859 0.78471935 0.77965859 0.77965859\n",
      " 0.78392592 0.77965859 0.77965859 0.77965859 0.79274224 0.88825372\n",
      " 0.77965859 0.84277056 0.89164866 0.7873222  0.86176673 0.88881658\n",
      "        nan        nan        nan        nan        nan        nan\n",
      "        nan        nan        nan        nan        nan        nan\n",
      "        nan        nan        nan        nan        nan        nan\n",
      " 0.89670602 0.77965859 0.77965859 0.90047905 0.77965859 0.77965859\n",
      " 0.90180639 0.77965859 0.77965859 0.78043912 0.84762131 0.90151912\n",
      " 0.77922234 0.87457416 0.91660015 0.77808429 0.85590383 0.90284523\n",
      "        nan        nan        nan        nan        nan        nan\n",
      "        nan        nan        nan        nan        nan        nan\n",
      "        nan        nan        nan        nan        nan        nan\n",
      " 0.90922628 0.8071269  0.77965859 0.90533553 0.8071269  0.77965859\n",
      " 0.90777753 0.8071269  0.77965859 0.77546379 0.83652614 0.90660371\n",
      " 0.77231575 0.87425311 0.91315968 0.77792851 0.85388338 0.90600888\n",
      "        nan        nan        nan        nan        nan        nan\n",
      "        nan        nan        nan        nan        nan        nan\n",
      "        nan        nan        nan        nan        nan        nan\n",
      " 0.90466043 0.84859291 0.77965859 0.90300446 0.84859291 0.77965859\n",
      " 0.90433396 0.84859291 0.77965859 0.7697419  0.81441097 0.90316346\n",
      " 0.76789361 0.86101165 0.90816828 0.78014719 0.84646364 0.91234009\n",
      "        nan        nan        nan        nan        nan        nan\n",
      "        nan        nan        nan        nan        nan        nan\n",
      "        nan        nan        nan        nan        nan        nan\n",
      " 0.90463369 0.85139799 0.77844311 0.90943044 0.85139799 0.77844311\n",
      " 0.90943044 0.85139799 0.77844311 0.76486909 0.8102733  0.90090885\n",
      " 0.76326755 0.8614652  0.90786492 0.77422605 0.8454332  0.91200528\n",
      "        nan        nan        nan        nan        nan        nan\n",
      "        nan        nan        nan        nan        nan        nan\n",
      "        nan        nan        nan        nan        nan        nan\n",
      " 0.90547297 0.85429815 0.77844311 0.91033406 0.85429815 0.77844311\n",
      " 0.90775888 0.85429815 0.77844311 0.75887881 0.80208959 0.89920476\n",
      " 0.76142635 0.85690153 0.90549022 0.77180601 0.84171444 0.91004278\n",
      "        nan        nan        nan        nan        nan        nan\n",
      "        nan        nan        nan        nan        nan        nan\n",
      "        nan        nan        nan        nan        nan        nan\n",
      " 0.90276782 0.85988711 0.77922234 0.90887956 0.85988711 0.77922234\n",
      " 0.90887956 0.85988711 0.77922234 0.75627451 0.80311697 0.89687918\n",
      " 0.75835311 0.85684497 0.90811489 0.77628161 0.84127113 0.91107034]\n",
      "  warnings.warn(\n"
     ]
    },
    {
     "data": {
      "text/plain": [
       "GridSearchCV(cv=3,\n",
       "             estimator=Pipeline(steps=[('vect', CountVectorizer()),\n",
       "                                       ('clf', LogisticRegression())]),\n",
       "             n_jobs=-1,\n",
       "             param_grid={'clf__C': array([1.e-03, 1.e-02, 1.e-01, 1.e+00, 1.e+01, 1.e+02, 1.e+03]),\n",
       "                         'clf__penalty': ['l1', 'l2'],\n",
       "                         'vect__analyzer': ['word', 'char'],\n",
       "                         'vect__max_df': (0.5, 0.75, 1.0),\n",
       "                         'vect__ngram_range': ((1, 1), (2, 2), (3, 3))},\n",
       "             refit='accuracy', scoring=['accuracy', 'f1'], verbose=1)"
      ]
     },
     "execution_count": 105,
     "metadata": {},
     "output_type": "execute_result"
    }
   ],
   "source": [
    "grid_cntv.fit(X_train, y_train)"
   ]
  },
  {
   "cell_type": "code",
   "execution_count": 106,
   "metadata": {},
   "outputs": [
    {
     "name": "stdout",
     "output_type": "stream",
     "text": [
      "Best score: 0.891\n"
     ]
    }
   ],
   "source": [
    "# print(grid_cntv.best_estimator_)\n",
    "print(\"Best score: %0.3f\" % grid_cntv.best_score_)"
   ]
  },
  {
   "cell_type": "code",
   "execution_count": 107,
   "metadata": {},
   "outputs": [],
   "source": [
    "predictions=grid_cntv.best_estimator_.predict(X_test)"
   ]
  },
  {
   "cell_type": "code",
   "execution_count": 108,
   "metadata": {},
   "outputs": [
    {
     "name": "stdout",
     "output_type": "stream",
     "text": [
      "Precision:   0.90\n",
      "Recall:      0.89\n",
      "F1_score:    0.89\n",
      "Accuracy:    0.90\n"
     ]
    }
   ],
   "source": [
    "print(\"Precision: {0:6.2f}\".format(precision_score(y_test, predictions, average='macro')))\n",
    "print(\"Recall:    {0:6.2f}\".format(recall_score(y_test, predictions, average='macro')))\n",
    "print(\"F1_score:  {0:6.2f}\".format(f1_score(y_test, predictions, average='macro')))\n",
    "print(\"Accuracy:  {0:6.2f}\".format(accuracy_score(y_test, predictions)))"
   ]
  },
  {
   "cell_type": "code",
   "execution_count": 109,
   "metadata": {},
   "outputs": [
    {
     "name": "stdout",
     "output_type": "stream",
     "text": [
      "              precision    recall  f1-score   support\n",
      "\n",
      "         1.0       0.90      0.94      0.92       157\n",
      "         5.0       0.90      0.84      0.87       106\n",
      "\n",
      "    accuracy                           0.90       263\n",
      "   macro avg       0.90      0.89      0.89       263\n",
      "weighted avg       0.90      0.90      0.90       263\n",
      "\n"
     ]
    }
   ],
   "source": [
    "print(classification_report(y_test, predictions))"
   ]
  },
  {
   "cell_type": "code",
   "execution_count": 110,
   "metadata": {},
   "outputs": [
    {
     "data": {
      "image/png": "[encoded data removed]",
      "text/plain": [
       "<Figure size 576x432 with 1 Axes>"
      ]
     },
     "metadata": {
      "needs_background": "light"
     },
     "output_type": "display_data"
    }
   ],
   "source": [
    "labels = grid_cntv.best_estimator_.classes_\n",
    "\n",
    "sns.heatmap(\n",
    "    data=confusion_matrix(y_test, predictions), \n",
    "    annot=True, \n",
    "    fmt=\"d\", \n",
    "    cbar=False, \n",
    "    xticklabels=labels, \n",
    "    yticklabels=labels\n",
    ")\n",
    "\n",
    "plt.title(\"Confusion matrix\")\n",
    "plt.show()"
   ]
  },
  {
   "cell_type": "markdown",
   "metadata": {},
   "source": [
    "### 1st type\n",
    "𝑡𝑓−𝑖𝑑𝑓"
   ]
  },
  {
   "cell_type": "code",
   "execution_count": 111,
   "metadata": {},
   "outputs": [],
   "source": [
    "clf_tf_idf = Pipeline(\n",
    "    [('vect', CountVectorizer()),\n",
    "     ('tfidf', TfidfTransformer()),\n",
    "     ('clf', LogisticRegression())]\n",
    ")\n",
    "\n",
    "params_tf_idf={\n",
    "    'vect__analyzer': ['word'],\n",
    "    'vect__max_df': (0.5, 0.75, 1.0),\n",
    "    'vect__ngram_range': [(1, 1), (2, 2), (3, 3)],\n",
    "    'tfidf__use_idf': (True, False),\n",
    "    'clf__C': np.logspace(-3, 3, 7),\n",
    "    'clf__penalty': ['l1', 'l2']\n",
    "}\n",
    "\n",
    "scores=['accuracy','f1']"
   ]
  },
  {
   "cell_type": "code",
   "execution_count": 112,
   "metadata": {},
   "outputs": [],
   "source": [
    "grid_tf_idf = GridSearchCV(\n",
    "    clf_tf_idf, \n",
    "    param_grid=params_tf_idf, \n",
    "    cv=3,\n",
    "    scoring=scores,\n",
    "    refit=scores[0],\n",
    "    n_jobs=-1, \n",
    "    verbose=1\n",
    ")"
   ]
  },
  {
   "cell_type": "code",
   "execution_count": 113,
   "metadata": {},
   "outputs": [
    {
     "name": "stdout",
     "output_type": "stream",
     "text": [
      "Fitting 3 folds for each of 252 candidates, totalling 756 fits\n"
     ]
    },
    {
     "name": "stderr",
     "output_type": "stream",
     "text": [
      "C:\\Users\\spass\\anaconda3\\lib\\site-packages\\sklearn\\model_selection\\_search.py:922: UserWarning: One or more of the test scores are non-finite: [       nan        nan        nan        nan        nan        nan\n",
      "        nan        nan        nan        nan        nan        nan\n",
      "        nan        nan        nan        nan        nan        nan\n",
      " 0.63888889 0.63888889 0.63888889 0.63888889 0.63888889 0.63888889\n",
      " 0.63888889 0.63888889 0.63888889 0.63888889 0.63888889 0.63888889\n",
      " 0.63888889 0.63888889 0.63888889 0.63888889 0.63888889 0.63888889\n",
      "        nan        nan        nan        nan        nan        nan\n",
      "        nan        nan        nan        nan        nan        nan\n",
      "        nan        nan        nan        nan        nan        nan\n",
      " 0.63888889 0.63888889 0.63888889 0.63888889 0.63888889 0.63888889\n",
      " 0.63888889 0.63888889 0.63888889 0.63888889 0.63888889 0.63888889\n",
      " 0.63888889 0.63888889 0.63888889 0.63888889 0.63888889 0.63888889\n",
      "        nan        nan        nan        nan        nan        nan\n",
      "        nan        nan        nan        nan        nan        nan\n",
      "        nan        nan        nan        nan        nan        nan\n",
      " 0.63888889 0.63888889 0.63888889 0.63888889 0.63888889 0.63888889\n",
      " 0.63888889 0.63888889 0.63888889 0.63888889 0.63888889 0.63888889\n",
      " 0.63888889 0.63888889 0.63888889 0.63888889 0.63888889 0.63888889\n",
      "        nan        nan        nan        nan        nan        nan\n",
      "        nan        nan        nan        nan        nan        nan\n",
      "        nan        nan        nan        nan        nan        nan\n",
      " 0.81699346 0.64052288 0.63888889 0.8120915  0.64052288 0.63888889\n",
      " 0.8120915  0.64052288 0.63888889 0.83333333 0.64379085 0.63888889\n",
      " 0.83006536 0.64379085 0.63888889 0.82189542 0.64379085 0.63888889\n",
      "        nan        nan        nan        nan        nan        nan\n",
      "        nan        nan        nan        nan        nan        nan\n",
      "        nan        nan        nan        nan        nan        nan\n",
      " 0.87908497 0.71405229 0.65196078 0.88071895 0.71405229 0.65196078\n",
      " 0.87908497 0.71405229 0.65196078 0.87581699 0.7630719  0.65522876\n",
      " 0.87581699 0.7630719  0.65522876 0.87581699 0.7630719  0.65522876\n",
      "        nan        nan        nan        nan        nan        nan\n",
      "        nan        nan        nan        nan        nan        nan\n",
      "        nan        nan        nan        nan        nan        nan\n",
      " 0.89052288 0.76470588 0.66176471 0.8872549  0.76470588 0.66176471\n",
      " 0.8872549  0.76470588 0.66176471 0.87418301 0.80228758 0.66830065\n",
      " 0.87745098 0.80228758 0.66830065 0.87908497 0.80228758 0.66830065\n",
      "        nan        nan        nan        nan        nan        nan\n",
      "        nan        nan        nan        nan        nan        nan\n",
      "        nan        nan        nan        nan        nan        nan\n",
      " 0.88888889 0.78431373 0.66339869 0.89869281 0.78431373 0.66339869\n",
      " 0.89542484 0.78431373 0.66339869 0.87418301 0.81045752 0.67156863\n",
      " 0.87254902 0.81045752 0.67156863 0.87581699 0.81045752 0.67156863]\n",
      "  warnings.warn(\n",
      "C:\\Users\\spass\\anaconda3\\lib\\site-packages\\sklearn\\model_selection\\_search.py:922: UserWarning: One or more of the test scores are non-finite: [       nan        nan        nan        nan        nan        nan\n",
      "        nan        nan        nan        nan        nan        nan\n",
      "        nan        nan        nan        nan        nan        nan\n",
      " 0.77965859 0.77965859 0.77965859 0.77965859 0.77965859 0.77965859\n",
      " 0.77965859 0.77965859 0.77965859 0.77965859 0.77965859 0.77965859\n",
      " 0.77965859 0.77965859 0.77965859 0.77965859 0.77965859 0.77965859\n",
      "        nan        nan        nan        nan        nan        nan\n",
      "        nan        nan        nan        nan        nan        nan\n",
      "        nan        nan        nan        nan        nan        nan\n",
      " 0.77965859 0.77965859 0.77965859 0.77965859 0.77965859 0.77965859\n",
      " 0.77965859 0.77965859 0.77965859 0.77965859 0.77965859 0.77965859\n",
      " 0.77965859 0.77965859 0.77965859 0.77965859 0.77965859 0.77965859\n",
      "        nan        nan        nan        nan        nan        nan\n",
      "        nan        nan        nan        nan        nan        nan\n",
      "        nan        nan        nan        nan        nan        nan\n",
      " 0.77965859 0.77965859 0.77965859 0.77965859 0.77965859 0.77965859\n",
      " 0.77965859 0.77965859 0.77965859 0.77965859 0.77965859 0.77965859\n",
      " 0.77965859 0.77965859 0.77965859 0.77965859 0.77965859 0.77965859\n",
      "        nan        nan        nan        nan        nan        nan\n",
      "        nan        nan        nan        nan        nan        nan\n",
      "        nan        nan        nan        nan        nan        nan\n",
      " 0.87379388 0.78043782 0.77965859 0.87063959 0.78043782 0.77965859\n",
      " 0.87063959 0.78043782 0.77965859 0.88148715 0.78200226 0.77965859\n",
      " 0.87976221 0.78200226 0.77965859 0.87473979 0.78200226 0.77965859\n",
      "        nan        nan        nan        nan        nan        nan\n",
      "        nan        nan        nan        nan        nan        nan\n",
      "        nan        nan        nan        nan        nan        nan\n",
      " 0.91082048 0.81722791 0.78550937 0.91208277 0.81722791 0.78550937\n",
      " 0.91072087 0.81722791 0.78550937 0.90697074 0.84187583 0.78490975\n",
      " 0.90720889 0.84187583 0.78490975 0.90743056 0.84187583 0.78490975\n",
      "        nan        nan        nan        nan        nan        nan\n",
      "        nan        nan        nan        nan        nan        nan\n",
      "        nan        nan        nan        nan        nan        nan\n",
      " 0.91834969 0.8431797  0.7894577  0.91573331 0.8431797  0.7894577\n",
      " 0.91573331 0.8431797  0.7894577  0.90485282 0.86336828 0.79096317\n",
      " 0.90718811 0.86336828 0.79096317 0.90827726 0.86336828 0.79096317\n",
      "        nan        nan        nan        nan        nan        nan\n",
      "        nan        nan        nan        nan        nan        nan\n",
      "        nan        nan        nan        nan        nan        nan\n",
      " 0.91686168 0.85444718 0.78981705 0.92390598 0.85444718 0.78981705\n",
      " 0.92173058 0.85444718 0.78981705 0.90499521 0.86814978 0.79258035\n",
      " 0.90343756 0.86814978 0.79258035 0.90592099 0.86814978 0.79258035]\n",
      "  warnings.warn(\n"
     ]
    },
    {
     "data": {
      "text/plain": [
       "GridSearchCV(cv=3,\n",
       "             estimator=Pipeline(steps=[('vect', CountVectorizer()),\n",
       "                                       ('tfidf', TfidfTransformer()),\n",
       "                                       ('clf', LogisticRegression())]),\n",
       "             n_jobs=-1,\n",
       "             param_grid={'clf__C': array([1.e-03, 1.e-02, 1.e-01, 1.e+00, 1.e+01, 1.e+02, 1.e+03]),\n",
       "                         'clf__penalty': ['l1', 'l2'],\n",
       "                         'tfidf__use_idf': (True, False),\n",
       "                         'vect__analyzer': ['word'],\n",
       "                         'vect__max_df': (0.5, 0.75, 1.0),\n",
       "                         'vect__ngram_range': [(1, 1), (2, 2), (3, 3)]},\n",
       "             refit='accuracy', scoring=['accuracy', 'f1'], verbose=1)"
      ]
     },
     "execution_count": 113,
     "metadata": {},
     "output_type": "execute_result"
    }
   ],
   "source": [
    "grid_tf_idf.fit(X_train, y_train)"
   ]
  },
  {
   "cell_type": "code",
   "execution_count": 114,
   "metadata": {},
   "outputs": [
    {
     "name": "stdout",
     "output_type": "stream",
     "text": [
      "Best score: 0.899\n"
     ]
    }
   ],
   "source": [
    "# print(grid_tf_idf.best_estimator_)\n",
    "print(\"Best score: %0.3f\" % grid_tf_idf.best_score_)"
   ]
  },
  {
   "cell_type": "code",
   "execution_count": 115,
   "metadata": {},
   "outputs": [
    {
     "name": "stdout",
     "output_type": "stream",
     "text": [
      "Precision:   0.90\n",
      "Recall:      0.89\n",
      "F1_score:    0.89\n",
      "Accuracy:    0.90\n"
     ]
    }
   ],
   "source": [
    "print(\"Precision: {0:6.2f}\".format(precision_score(y_test, predictions, average='macro')))\n",
    "print(\"Recall:    {0:6.2f}\".format(recall_score(y_test, predictions, average='macro')))\n",
    "print(\"F1_score:  {0:6.2f}\".format(f1_score(y_test, predictions, average='macro')))\n",
    "print(\"Accuracy:  {0:6.2f}\".format(accuracy_score(y_test, predictions)))"
   ]
  },
  {
   "cell_type": "code",
   "execution_count": 116,
   "metadata": {},
   "outputs": [
    {
     "name": "stdout",
     "output_type": "stream",
     "text": [
      "              precision    recall  f1-score   support\n",
      "\n",
      "         1.0       0.90      0.94      0.92       157\n",
      "         5.0       0.90      0.84      0.87       106\n",
      "\n",
      "    accuracy                           0.90       263\n",
      "   macro avg       0.90      0.89      0.89       263\n",
      "weighted avg       0.90      0.90      0.90       263\n",
      "\n"
     ]
    }
   ],
   "source": [
    "print(classification_report(y_test, predictions))"
   ]
  },
  {
   "cell_type": "code",
   "execution_count": 117,
   "metadata": {},
   "outputs": [
    {
     "data": {
      "image/png": "[encoded data removed]",
      "text/plain": [
       "<Figure size 576x432 with 1 Axes>"
      ]
     },
     "metadata": {
      "needs_background": "light"
     },
     "output_type": "display_data"
    }
   ],
   "source": [
    "labels = grid_tf_idf.best_estimator_.classes_\n",
    "\n",
    "sns.heatmap(\n",
    "    data=confusion_matrix(y_test, predictions), \n",
    "    annot=True, \n",
    "    fmt=\"d\", \n",
    "    cbar=False, \n",
    "    xticklabels=labels, \n",
    "    yticklabels=labels\n",
    ")\n",
    "\n",
    "plt.title(\"Confusion matrix\")\n",
    "plt.show()"
   ]
  },
  {
   "cell_type": "markdown",
   "metadata": {},
   "source": [
    "Cингулярное разложение"
   ]
  },
  {
   "cell_type": "code",
   "execution_count": 118,
   "metadata": {},
   "outputs": [],
   "source": [
    "clf_tf_idf_TruncatedSVD = Pipeline(\n",
    "    [('vect', CountVectorizer()),\n",
    "     ('tfidf', TfidfTransformer()),\n",
    "     ('tsvd', TruncatedSVD()),\n",
    "     ('clf', LogisticRegression())]\n",
    ")\n",
    "\n",
    "params_tf_idf_TruncatedSVD={\n",
    "    'vect__analyzer': ['word'],\n",
    "    'vect__ngram_range': [(1, 1), (2, 2), (3, 3)],\n",
    "    'tsvd__n_components': [5, 10, 25, 50, 100],\n",
    "    'clf__C': np.logspace(-3, 3, 7),\n",
    "    'clf__penalty': ['l1', 'l2']\n",
    "}\n",
    "\n",
    "scores=['accuracy','f1']"
   ]
  },
  {
   "cell_type": "code",
   "execution_count": 119,
   "metadata": {},
   "outputs": [],
   "source": [
    "grid_tf_idf_TruncatedSVD = GridSearchCV(\n",
    "    clf_tf_idf_TruncatedSVD, \n",
    "    param_grid=params_tf_idf_TruncatedSVD, \n",
    "    cv=3,\n",
    "    scoring=scores,\n",
    "    refit=scores[0],\n",
    "    n_jobs=-1, \n",
    "    verbose=1\n",
    ")"
   ]
  },
  {
   "cell_type": "code",
   "execution_count": null,
   "metadata": {},
   "outputs": [
    {
     "name": "stdout",
     "output_type": "stream",
     "text": [
      "Fitting 3 folds for each of 210 candidates, totalling 630 fits\n"
     ]
    }
   ],
   "source": [
    "grid_tf_idf_TruncatedSVD.fit(X_train, y_train)"
   ]
  },
  {
   "cell_type": "code",
   "execution_count": null,
   "metadata": {},
   "outputs": [],
   "source": [
    "# print(grid_tf_idf_TruncatedSVD.best_estimator_)\n",
    "print(\"Best score: %0.3f\" % grid_tf_idf_TruncatedSVD.best_score_)"
   ]
  },
  {
   "cell_type": "code",
   "execution_count": 293,
   "metadata": {},
   "outputs": [],
   "source": [
    "predictions=grid_tf_idf_TruncatedSVD.best_estimator_.predict(X_test)"
   ]
  },
  {
   "cell_type": "code",
   "execution_count": 294,
   "metadata": {},
   "outputs": [
    {
     "name": "stdout",
     "output_type": "stream",
     "text": [
      "Precision:   0.38\n",
      "Recall:      0.50\n",
      "F1_score:    0.43\n",
      "Accuracy:    0.76\n"
     ]
    },
    {
     "name": "stderr",
     "output_type": "stream",
     "text": [
      "C:\\Users\\spass\\anaconda3\\lib\\site-packages\\sklearn\\metrics\\_classification.py:1248: UndefinedMetricWarning: Precision is ill-defined and being set to 0.0 in labels with no predicted samples. Use `zero_division` parameter to control this behavior.\n",
      "  _warn_prf(average, modifier, msg_start, len(result))\n"
     ]
    }
   ],
   "source": [
    "print(\"Precision: {0:6.2f}\".format(precision_score(y_test, predictions, average='macro')))\n",
    "print(\"Recall:    {0:6.2f}\".format(recall_score(y_test, predictions, average='macro')))\n",
    "print(\"F1_score:  {0:6.2f}\".format(f1_score(y_test, predictions, average='macro')))\n",
    "print(\"Accuracy:  {0:6.2f}\".format(accuracy_score(y_test, predictions)))"
   ]
  },
  {
   "cell_type": "code",
   "execution_count": null,
   "metadata": {},
   "outputs": [],
   "source": [
    "print(classification_report(y_test, predictions))"
   ]
  },
  {
   "cell_type": "code",
   "execution_count": null,
   "metadata": {},
   "outputs": [],
   "source": [
    "labels = grid_tf_idf_TruncatedSVD.best_estimator_.classes_\n",
    "\n",
    "sns.heatmap(\n",
    "    data=confusion_matrix(y_test, predictions), \n",
    "    annot=True, \n",
    "    fmt=\"d\", \n",
    "    cbar=False, \n",
    "    xticklabels=labels, \n",
    "    yticklabels=labels\n",
    ")\n",
    "\n",
    "plt.title(\"Confusion matrix\")\n",
    "plt.show()"
   ]
  },
  {
   "cell_type": "markdown",
   "metadata": {},
   "source": [
    "#### LDA"
   ]
  },
  {
   "cell_type": "code",
   "execution_count": null,
   "metadata": {},
   "outputs": [],
   "source": [
    "clf_tf_idf_LDA = Pipeline(\n",
    "    [('vect', CountVectorizer()),\n",
    "     ('lda', LatentDirichletAllocation()),\n",
    "     ('clf', LogisticRegression())]\n",
    ")\n",
    "\n",
    "params_tf_idf_LDA={\n",
    "    'vect__analyzer': ['word'],\n",
    "    'vect__max_df': [0.75],\n",
    "    'vect__ngram_range': [(1, 1)],\n",
    "    'lda__n_components' : [25, 50, 100],\n",
    "    'clf__C': np.logspace(-3, 3, 7),\n",
    "    'clf__penalty': ['l2']\n",
    "}\n",
    "\n",
    "scores=['accuracy', 'f1']"
   ]
  },
  {
   "cell_type": "code",
   "execution_count": 276,
   "metadata": {},
   "outputs": [],
   "source": [
    "grid_tf_idf_LDA = GridSearchCV(\n",
    "    clf_tf_idf_LDA, \n",
    "    param_grid=params_tf_idf_LDA, \n",
    "    cv=3,\n",
    "    scoring=scores,\n",
    "    refit=scores[0],\n",
    "    n_jobs=-1, \n",
    "    verbose=1\n",
    ")"
   ]
  },
  {
   "cell_type": "code",
   "execution_count": 277,
   "metadata": {},
   "outputs": [
    {
     "name": "stdout",
     "output_type": "stream",
     "text": [
      "Fitting 3 folds for each of 21 candidates, totalling 63 fits\n"
     ]
    },
    {
     "data": {
      "text/plain": [
       "GridSearchCV(cv=3,\n",
       "             estimator=Pipeline(steps=[('vect', CountVectorizer()),\n",
       "                                       ('lda', LatentDirichletAllocation()),\n",
       "                                       ('clf', LogisticRegression())]),\n",
       "             n_jobs=-1,\n",
       "             param_grid={'clf__C': array([1.e-03, 1.e-02, 1.e-01, 1.e+00, 1.e+01, 1.e+02, 1.e+03]),\n",
       "                         'clf__penalty': ['l2'],\n",
       "                         'lda__n_components': [25, 50, 100],\n",
       "                         'vect__analyzer': ['word'], 'vect__max_df': [0.75],\n",
       "                         'vect__ngram_range': [(1, 1)]},\n",
       "             refit='accuracy', scoring=['accuracy', 'f1'], verbose=1)"
      ]
     },
     "execution_count": 277,
     "metadata": {},
     "output_type": "execute_result"
    }
   ],
   "source": [
    "grid_tf_idf_LDA.fit(X_train, y_train)"
   ]
  },
  {
   "cell_type": "code",
   "execution_count": 278,
   "metadata": {},
   "outputs": [
    {
     "name": "stdout",
     "output_type": "stream",
     "text": [
      "Best score: 0.731\n"
     ]
    }
   ],
   "source": [
    "# print(grid_tf_idf_LDA.best_estimator_)\n",
    "print(\"Best score: %0.3f\" % grid_tf_idf_LDA.best_score_)"
   ]
  },
  {
   "cell_type": "code",
   "execution_count": 281,
   "metadata": {},
   "outputs": [],
   "source": [
    "predictions=grid_tf_idf_LDA.best_estimator_.predict(X_test)"
   ]
  },
  {
   "cell_type": "code",
   "execution_count": 282,
   "metadata": {},
   "outputs": [
    {
     "name": "stdout",
     "output_type": "stream",
     "text": [
      "Precision:   0.38\n",
      "Recall:      0.50\n",
      "F1_score:    0.43\n",
      "Accuracy:    0.76\n"
     ]
    },
    {
     "name": "stderr",
     "output_type": "stream",
     "text": [
      "C:\\Users\\spass\\anaconda3\\lib\\site-packages\\sklearn\\metrics\\_classification.py:1248: UndefinedMetricWarning: Precision is ill-defined and being set to 0.0 in labels with no predicted samples. Use `zero_division` parameter to control this behavior.\n",
      "  _warn_prf(average, modifier, msg_start, len(result))\n"
     ]
    }
   ],
   "source": [
    "print(\"Precision: {0:6.2f}\".format(precision_score(y_test, predictions, average='macro')))\n",
    "print(\"Recall:    {0:6.2f}\".format(recall_score(y_test, predictions, average='macro')))\n",
    "print(\"F1_score:  {0:6.2f}\".format(f1_score(y_test, predictions, average='macro')))\n",
    "print(\"Accuracy:  {0:6.2f}\".format(accuracy_score(y_test, predictions)))"
   ]
  },
  {
   "cell_type": "code",
   "execution_count": 283,
   "metadata": {},
   "outputs": [
    {
     "name": "stdout",
     "output_type": "stream",
     "text": [
      "              precision    recall  f1-score   support\n",
      "\n",
      "         1.0       0.76      1.00      0.87        13\n",
      "         5.0       0.00      0.00      0.00         4\n",
      "\n",
      "    accuracy                           0.76        17\n",
      "   macro avg       0.38      0.50      0.43        17\n",
      "weighted avg       0.58      0.76      0.66        17\n",
      "\n"
     ]
    },
    {
     "name": "stderr",
     "output_type": "stream",
     "text": [
      "C:\\Users\\spass\\anaconda3\\lib\\site-packages\\sklearn\\metrics\\_classification.py:1248: UndefinedMetricWarning: Precision and F-score are ill-defined and being set to 0.0 in labels with no predicted samples. Use `zero_division` parameter to control this behavior.\n",
      "  _warn_prf(average, modifier, msg_start, len(result))\n",
      "C:\\Users\\spass\\anaconda3\\lib\\site-packages\\sklearn\\metrics\\_classification.py:1248: UndefinedMetricWarning: Precision and F-score are ill-defined and being set to 0.0 in labels with no predicted samples. Use `zero_division` parameter to control this behavior.\n",
      "  _warn_prf(average, modifier, msg_start, len(result))\n",
      "C:\\Users\\spass\\anaconda3\\lib\\site-packages\\sklearn\\metrics\\_classification.py:1248: UndefinedMetricWarning: Precision and F-score are ill-defined and being set to 0.0 in labels with no predicted samples. Use `zero_division` parameter to control this behavior.\n",
      "  _warn_prf(average, modifier, msg_start, len(result))\n"
     ]
    }
   ],
   "source": [
    "print(classification_report(y_test, predictions))"
   ]
  },
  {
   "cell_type": "code",
   "execution_count": 284,
   "metadata": {},
   "outputs": [
    {
     "data": {
      "image/png": "[encoded data removed]",
      "text/plain": [
       "<Figure size 576x432 with 1 Axes>"
      ]
     },
     "metadata": {
      "needs_background": "light"
     },
     "output_type": "display_data"
    }
   ],
   "source": [
    "labels = grid_tf_idf_LDA.best_estimator_.classes_\n",
    "\n",
    "sns.heatmap(\n",
    "    data=confusion_matrix(y_test, predictions), \n",
    "    annot=True, \n",
    "    fmt=\"d\", \n",
    "    cbar=False,\n",
    "    xticklabels=labels,\n",
    "    yticklabels=labels\n",
    ")\n",
    "\n",
    "plt.title(\"Confusion matrix\")\n",
    "plt.show()"
   ]
  },
  {
   "cell_type": "code",
   "execution_count": 295,
   "metadata": {},
   "outputs": [
    {
     "name": "stdout",
     "output_type": "stream",
     "text": [
      "cntv\n",
      "f1_score:  0.433\n",
      "Accuracy:  0.433\n",
      "\n",
      "\n",
      "tf_idf\n",
      "f1_score:  0.433\n",
      "Accuracy:  0.433\n",
      "\n",
      "\n",
      "tf_idf_TruncatedSVD\n",
      "f1_score:  0.433\n",
      "Accuracy:  0.433\n",
      "\n",
      "\n",
      "tf_idf_LDA\n",
      "f1_score:  0.433\n",
      "Accuracy:  0.433\n",
      "\n",
      "\n"
     ]
    }
   ],
   "source": [
    "models=['grid_cntv', 'grid_tf_idf', 'grid_tf_idf_TruncatedSVD', 'grid_tf_idf_LDA']\n",
    "\n",
    "for model in models:\n",
    "    print(model[5:])\n",
    "    predictions=eval(model).best_estimator_.predict(X_test)\n",
    "    print(\"f1_score: {0:6.3f}\\nAccuracy: {0:6.3f}\\n\\n\".format(\n",
    "        f1_score(y_test, predictions, average='macro'), \n",
    "        accuracy_score(y_test, predictions)))"
   ]
  },
  {
   "cell_type": "code",
   "execution_count": null,
   "metadata": {},
   "outputs": [],
   "source": []
  },
  {
   "cell_type": "code",
   "execution_count": null,
   "metadata": {},
   "outputs": [],
   "source": []
  }
 ],
 "metadata": {
  "colab": {
   "collapsed_sections": [],
   "name": "HW1_banki_TM-and-classification.ipynb",
   "provenance": []
  },
  "kernelspec": {
   "display_name": "Python 3 (ipykernel)",
   "language": "python",
   "name": "python3"
  },
  "language_info": {
   "codemirror_mode": {
    "name": "ipython",
    "version": 3
   },
   "file_extension": ".py",
   "mimetype": "text/x-python",
   "name": "python",
   "nbconvert_exporter": "python",
   "pygments_lexer": "ipython3",
   "version": "3.9.7"
  }
 },
 "nbformat": 4,
 "nbformat_minor": 1
}
