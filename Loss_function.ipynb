{
 "cells": [
  {
   "cell_type": "code",
   "execution_count": 93,
   "id": "23cb90f7",
   "metadata": {},
   "outputs": [],
   "source": [
    "import pandas as pd\n",
    "from sklearn import datasets\n",
    "from sklearn.model_selection import train_test_split\n",
    "import numpy as np\n",
    "from math import exp"
   ]
  },
  {
   "cell_type": "code",
   "execution_count": 2,
   "id": "a45cc8e1",
   "metadata": {},
   "outputs": [],
   "source": [
    "iris = datasets.load_iris()"
   ]
  },
  {
   "cell_type": "code",
   "execution_count": 5,
   "id": "d86102f5",
   "metadata": {},
   "outputs": [
    {
     "data": {
      "text/plain": [
       "array(['setosa', 'versicolor', 'virginica'], dtype='<U10')"
      ]
     },
     "execution_count": 5,
     "metadata": {},
     "output_type": "execute_result"
    }
   ],
   "source": [
    "iris.target_names # значения таргетных перменных"
   ]
  },
  {
   "cell_type": "code",
   "execution_count": 6,
   "id": "64cd1476",
   "metadata": {},
   "outputs": [
    {
     "data": {
      "text/plain": [
       "['sepal length (cm)',\n",
       " 'sepal width (cm)',\n",
       " 'petal length (cm)',\n",
       " 'petal width (cm)']"
      ]
     },
     "execution_count": 6,
     "metadata": {},
     "output_type": "execute_result"
    }
   ],
   "source": [
    "iris.feature_names # 4 параметра | sepal - чашелистик, petal - лепесток"
   ]
  },
  {
   "cell_type": "code",
   "execution_count": 13,
   "id": "829b9768",
   "metadata": {},
   "outputs": [],
   "source": [
    "X = iris.data[:,:2] # забираем данные из датасета\n",
    "Y = iris.target"
   ]
  },
  {
   "cell_type": "code",
   "execution_count": 15,
   "id": "1b0c8f7d",
   "metadata": {},
   "outputs": [
    {
     "data": {
      "text/html": [
       "<div>\n",
       "<style scoped>\n",
       "    .dataframe tbody tr th:only-of-type {\n",
       "        vertical-align: middle;\n",
       "    }\n",
       "\n",
       "    .dataframe tbody tr th {\n",
       "        vertical-align: top;\n",
       "    }\n",
       "\n",
       "    .dataframe thead th {\n",
       "        text-align: right;\n",
       "    }\n",
       "</style>\n",
       "<table border=\"1\" class=\"dataframe\">\n",
       "  <thead>\n",
       "    <tr style=\"text-align: right;\">\n",
       "      <th></th>\n",
       "      <th>0</th>\n",
       "      <th>1</th>\n",
       "      <th>2</th>\n",
       "      <th>3</th>\n",
       "    </tr>\n",
       "  </thead>\n",
       "  <tbody>\n",
       "    <tr>\n",
       "      <th>0</th>\n",
       "      <td>5.1</td>\n",
       "      <td>3.5</td>\n",
       "      <td>1.4</td>\n",
       "      <td>0.2</td>\n",
       "    </tr>\n",
       "    <tr>\n",
       "      <th>1</th>\n",
       "      <td>4.9</td>\n",
       "      <td>3.0</td>\n",
       "      <td>1.4</td>\n",
       "      <td>0.2</td>\n",
       "    </tr>\n",
       "    <tr>\n",
       "      <th>2</th>\n",
       "      <td>4.7</td>\n",
       "      <td>3.2</td>\n",
       "      <td>1.3</td>\n",
       "      <td>0.2</td>\n",
       "    </tr>\n",
       "    <tr>\n",
       "      <th>3</th>\n",
       "      <td>4.6</td>\n",
       "      <td>3.1</td>\n",
       "      <td>1.5</td>\n",
       "      <td>0.2</td>\n",
       "    </tr>\n",
       "    <tr>\n",
       "      <th>4</th>\n",
       "      <td>5.0</td>\n",
       "      <td>3.6</td>\n",
       "      <td>1.4</td>\n",
       "      <td>0.2</td>\n",
       "    </tr>\n",
       "  </tbody>\n",
       "</table>\n",
       "</div>"
      ],
      "text/plain": [
       "     0    1    2    3\n",
       "0  5.1  3.5  1.4  0.2\n",
       "1  4.9  3.0  1.4  0.2\n",
       "2  4.7  3.2  1.3  0.2\n",
       "3  4.6  3.1  1.5  0.2\n",
       "4  5.0  3.6  1.4  0.2"
      ]
     },
     "execution_count": 15,
     "metadata": {},
     "output_type": "execute_result"
    }
   ],
   "source": [
    "data = pd.DataFrame(iris.data)\n",
    "data.head()"
   ]
  },
  {
   "cell_type": "code",
   "execution_count": 16,
   "id": "41691293",
   "metadata": {},
   "outputs": [],
   "source": [
    "data.columns = ['sepal_length', 'sepal_width', 'petal_length', 'petal_width']"
   ]
  },
  {
   "cell_type": "code",
   "execution_count": 29,
   "id": "2280fae8",
   "metadata": {},
   "outputs": [],
   "source": [
    "data = data.reset_index()"
   ]
  },
  {
   "cell_type": "code",
   "execution_count": 18,
   "id": "293ffdbe",
   "metadata": {},
   "outputs": [],
   "source": [
    "target = target.rename(columns = {0: 'target'}) = pd.DataFrame(iris.target)"
   ]
  },
  {
   "cell_type": "code",
   "execution_count": 20,
   "id": "491c6d6f",
   "metadata": {},
   "outputs": [],
   "source": [
    "target = target.rename(columns = {0: 'target'})"
   ]
  },
  {
   "cell_type": "code",
   "execution_count": 30,
   "id": "7e74f519",
   "metadata": {},
   "outputs": [],
   "source": [
    "target = target.reset_index()"
   ]
  },
  {
   "cell_type": "code",
   "execution_count": 31,
   "id": "77c210f5",
   "metadata": {},
   "outputs": [],
   "source": [
    "combined = pd.merge(data, target, on= 'index', how='left')"
   ]
  },
  {
   "cell_type": "code",
   "execution_count": 34,
   "id": "58a192fc",
   "metadata": {},
   "outputs": [],
   "source": [
    "filtered = combined[combined['target'] != 0].copy() #only versicolor', 'virginica"
   ]
  },
  {
   "cell_type": "code",
   "execution_count": 35,
   "id": "527a3e5b",
   "metadata": {},
   "outputs": [
    {
     "data": {
      "text/html": [
       "<div>\n",
       "<style scoped>\n",
       "    .dataframe tbody tr th:only-of-type {\n",
       "        vertical-align: middle;\n",
       "    }\n",
       "\n",
       "    .dataframe tbody tr th {\n",
       "        vertical-align: top;\n",
       "    }\n",
       "\n",
       "    .dataframe thead th {\n",
       "        text-align: right;\n",
       "    }\n",
       "</style>\n",
       "<table border=\"1\" class=\"dataframe\">\n",
       "  <thead>\n",
       "    <tr style=\"text-align: right;\">\n",
       "      <th></th>\n",
       "      <th>index</th>\n",
       "      <th>sepal_length</th>\n",
       "      <th>sepal_width</th>\n",
       "      <th>petal_length</th>\n",
       "      <th>petal_width</th>\n",
       "      <th>target</th>\n",
       "    </tr>\n",
       "  </thead>\n",
       "  <tbody>\n",
       "    <tr>\n",
       "      <th>50</th>\n",
       "      <td>50</td>\n",
       "      <td>7.0</td>\n",
       "      <td>3.2</td>\n",
       "      <td>4.7</td>\n",
       "      <td>1.4</td>\n",
       "      <td>1</td>\n",
       "    </tr>\n",
       "    <tr>\n",
       "      <th>51</th>\n",
       "      <td>51</td>\n",
       "      <td>6.4</td>\n",
       "      <td>3.2</td>\n",
       "      <td>4.5</td>\n",
       "      <td>1.5</td>\n",
       "      <td>1</td>\n",
       "    </tr>\n",
       "    <tr>\n",
       "      <th>52</th>\n",
       "      <td>52</td>\n",
       "      <td>6.9</td>\n",
       "      <td>3.1</td>\n",
       "      <td>4.9</td>\n",
       "      <td>1.5</td>\n",
       "      <td>1</td>\n",
       "    </tr>\n",
       "    <tr>\n",
       "      <th>53</th>\n",
       "      <td>53</td>\n",
       "      <td>5.5</td>\n",
       "      <td>2.3</td>\n",
       "      <td>4.0</td>\n",
       "      <td>1.3</td>\n",
       "      <td>1</td>\n",
       "    </tr>\n",
       "    <tr>\n",
       "      <th>54</th>\n",
       "      <td>54</td>\n",
       "      <td>6.5</td>\n",
       "      <td>2.8</td>\n",
       "      <td>4.6</td>\n",
       "      <td>1.5</td>\n",
       "      <td>1</td>\n",
       "    </tr>\n",
       "    <tr>\n",
       "      <th>...</th>\n",
       "      <td>...</td>\n",
       "      <td>...</td>\n",
       "      <td>...</td>\n",
       "      <td>...</td>\n",
       "      <td>...</td>\n",
       "      <td>...</td>\n",
       "    </tr>\n",
       "    <tr>\n",
       "      <th>145</th>\n",
       "      <td>145</td>\n",
       "      <td>6.7</td>\n",
       "      <td>3.0</td>\n",
       "      <td>5.2</td>\n",
       "      <td>2.3</td>\n",
       "      <td>2</td>\n",
       "    </tr>\n",
       "    <tr>\n",
       "      <th>146</th>\n",
       "      <td>146</td>\n",
       "      <td>6.3</td>\n",
       "      <td>2.5</td>\n",
       "      <td>5.0</td>\n",
       "      <td>1.9</td>\n",
       "      <td>2</td>\n",
       "    </tr>\n",
       "    <tr>\n",
       "      <th>147</th>\n",
       "      <td>147</td>\n",
       "      <td>6.5</td>\n",
       "      <td>3.0</td>\n",
       "      <td>5.2</td>\n",
       "      <td>2.0</td>\n",
       "      <td>2</td>\n",
       "    </tr>\n",
       "    <tr>\n",
       "      <th>148</th>\n",
       "      <td>148</td>\n",
       "      <td>6.2</td>\n",
       "      <td>3.4</td>\n",
       "      <td>5.4</td>\n",
       "      <td>2.3</td>\n",
       "      <td>2</td>\n",
       "    </tr>\n",
       "    <tr>\n",
       "      <th>149</th>\n",
       "      <td>149</td>\n",
       "      <td>5.9</td>\n",
       "      <td>3.0</td>\n",
       "      <td>5.1</td>\n",
       "      <td>1.8</td>\n",
       "      <td>2</td>\n",
       "    </tr>\n",
       "  </tbody>\n",
       "</table>\n",
       "<p>100 rows × 6 columns</p>\n",
       "</div>"
      ],
      "text/plain": [
       "     index  sepal_length  sepal_width  petal_length  petal_width  target\n",
       "50      50           7.0          3.2           4.7          1.4       1\n",
       "51      51           6.4          3.2           4.5          1.5       1\n",
       "52      52           6.9          3.1           4.9          1.5       1\n",
       "53      53           5.5          2.3           4.0          1.3       1\n",
       "54      54           6.5          2.8           4.6          1.5       1\n",
       "..     ...           ...          ...           ...          ...     ...\n",
       "145    145           6.7          3.0           5.2          2.3       2\n",
       "146    146           6.3          2.5           5.0          1.9       2\n",
       "147    147           6.5          3.0           5.2          2.0       2\n",
       "148    148           6.2          3.4           5.4          2.3       2\n",
       "149    149           5.9          3.0           5.1          1.8       2\n",
       "\n",
       "[100 rows x 6 columns]"
      ]
     },
     "execution_count": 35,
     "metadata": {},
     "output_type": "execute_result"
    }
   ],
   "source": [
    "filtered"
   ]
  },
  {
   "cell_type": "code",
   "execution_count": 142,
   "id": "505b6280",
   "metadata": {},
   "outputs": [],
   "source": [
    "X = filtered[['sepal_length','sepal_width','petal_length','petal_width']]\n",
    "y = filtered['target']\n",
    "X_train, X_test, y_train, y_test = train_test_split(\n",
    "    X, y, test_size=0.2, random_state=42)"
   ]
  },
  {
   "cell_type": "code",
   "execution_count": 51,
   "id": "7961c86a",
   "metadata": {},
   "outputs": [],
   "source": [
    "from sklearn.linear_model import LogisticRegression"
   ]
  },
  {
   "cell_type": "markdown",
   "id": "4cbdf791",
   "metadata": {},
   "source": [
    "### sigmoid formula\n",
    "\n",
    "* z = b0 + b1*x1 + b2*x2 + b3*x3 + b4*x4\n",
    "* p = 1/(1 + e^(-y))"
   ]
  },
  {
   "cell_type": "markdown",
   "id": "fab97889",
   "metadata": {},
   "source": [
    "step_1 Set learning rate and number of iterations. Initiate random weigh and bias\n",
    "step_2 building sigmoid function = logistic reg\n",
    "step_3 update parameters using gradient descent\n",
    "step_4 predict function"
   ]
  },
  {
   "cell_type": "code",
   "execution_count": 158,
   "id": "0201198c",
   "metadata": {},
   "outputs": [],
   "source": [
    "class LogisticReg():\n",
    "    #initiate learning rate and number of iteration - hyperparameters\n",
    "    def __init__(self, learning_rate, num_steps):\n",
    "        self.learning_rate = learning_rate\n",
    "        self.num_steps = num_steps\n",
    "    \n",
    "    # to train model with dataset \n",
    "    # m - is total number of rows, n - num of features\n",
    "    def fit(self, X, y):\n",
    "        self.m, self.n = X.shape #get m & n parameters\n",
    "    #initiationg weight & bias\n",
    "        self.w = np.zeros(self.n) #create numpy array with all values 0\n",
    "        self.b = 0\n",
    "        self.X = X\n",
    "        self.y = y\n",
    "    # implementign gradient descent for optimization\n",
    "        for i in range(self.num_steps):\n",
    "            self.update_weights()\n",
    "    \n",
    "    def update_weights(self):\n",
    "        #sigmoid equation\n",
    "        Y_hat = 1/ (1 + np.exp(-(self.X.dot(self.w) + self.b))) # dot - matrix multiplication X*w + b\n",
    "      #derivatives\n",
    "        dw = (1/self.m)*np.dot(self.X.T, (Y_hat - self.y)) # transponse X in order to multiply on difference in ys\n",
    "        db = (1/self.m)*np.sum(Y_hat - self.y)\n",
    "    # update weights & bias using gradient descent\n",
    "        self.w = self.w - self.learning_rate * dw\n",
    "        self.b = self.b - self.learning_rate * db\n",
    "    #sigmoid equation & decision boundary\n",
    "        \n",
    "    def predict(self, X):\n",
    "        y_pred = 1/ (1 + np.exp(-(X.dot(self.w) + self.b))) \n",
    "        y_pred = np.where(y_pred>0.5, 1, 0) #if Y_hat bigger o.5, than the boundary is 1, otherwise 0\n",
    "        return y_pred"
   ]
  },
  {
   "cell_type": "code",
   "execution_count": 160,
   "id": "404dc479",
   "metadata": {},
   "outputs": [
    {
     "name": "stdout",
     "output_type": "stream",
     "text": [
      "Accuracy on test set by our model       :   56.666666666666664\n",
      "Accuracy on test set by sklearn model   :   93.33333333333333\n"
     ]
    }
   ],
   "source": [
    "def main() :\n",
    "    X = filtered[['sepal_length','sepal_width','petal_length','petal_width']].values\n",
    "    y = filtered['target'].values\n",
    "    X_train, X_test, y_train, y_test = train_test_split(\n",
    "    X, y, test_size=0.3, random_state=42)\n",
    "    # Model training    \n",
    "    model = LogisticReg(learning_rate = 0.01, num_steps = 5000 )\n",
    "      \n",
    "    model.fit( X_train, y_train )    \n",
    "    model1 = LogisticRegression()    \n",
    "    model1.fit( X_train, y_train)\n",
    "      \n",
    "    # Prediction on test set\n",
    "    y_pred = model.predict( X_test )    \n",
    "    y_pred1 = model1.predict( X_test )\n",
    "      \n",
    "    # measure performance    \n",
    "    correctly_classified = 0    \n",
    "    correctly_classified1 = 0\n",
    "      \n",
    "    # counter    \n",
    "    count = 0    \n",
    "    for count in range( np.size( y_pred ) ) :  \n",
    "        \n",
    "        if y_test[count] == y_pred[count] :            \n",
    "            correctly_classified = correctly_classified + 1\n",
    "          \n",
    "        if y_test[count] == y_pred1[count] :            \n",
    "            correctly_classified1 = correctly_classified1 + 1\n",
    "              \n",
    "        count = count + 1\n",
    "          \n",
    "    print( \"Accuracy on test set by our model       :  \", ( \n",
    "      correctly_classified / count ) * 100 )\n",
    "    print( \"Accuracy on test set by sklearn model   :  \", ( \n",
    "      correctly_classified1 / count ) * 100 )\n",
    "  \n",
    "  \n",
    "main()"
   ]
  },
  {
   "cell_type": "code",
   "execution_count": null,
   "id": "4eb39159",
   "metadata": {},
   "outputs": [],
   "source": []
  }
 ],
 "metadata": {
  "kernelspec": {
   "display_name": "Python 3 (ipykernel)",
   "language": "python",
   "name": "python3"
  },
  "language_info": {
   "codemirror_mode": {
    "name": "ipython",
    "version": 3
   },
   "file_extension": ".py",
   "mimetype": "text/x-python",
   "name": "python",
   "nbconvert_exporter": "python",
   "pygments_lexer": "ipython3",
   "version": "3.9.7"
  }
 },
 "nbformat": 4,
 "nbformat_minor": 5
}
