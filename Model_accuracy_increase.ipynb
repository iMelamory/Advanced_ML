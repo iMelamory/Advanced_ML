{
 "cells": [
  {
   "cell_type": "code",
   "execution_count": 1,
   "id": "eb568ac5",
   "metadata": {},
   "outputs": [],
   "source": [
    "import pandas as pd\n",
    "import matplotlib as plt\n",
    "import seaborn as sns\n",
    "import numpy as np"
   ]
  },
  {
   "cell_type": "code",
   "execution_count": 2,
   "id": "4725ba7c",
   "metadata": {},
   "outputs": [],
   "source": [
    "df = pd.read_csv('heart.csv').reset_index()"
   ]
  },
  {
   "cell_type": "code",
   "execution_count": 3,
   "id": "94001284",
   "metadata": {},
   "outputs": [
    {
     "data": {
      "text/html": [
       "<div>\n",
       "<style scoped>\n",
       "    .dataframe tbody tr th:only-of-type {\n",
       "        vertical-align: middle;\n",
       "    }\n",
       "\n",
       "    .dataframe tbody tr th {\n",
       "        vertical-align: top;\n",
       "    }\n",
       "\n",
       "    .dataframe thead th {\n",
       "        text-align: right;\n",
       "    }\n",
       "</style>\n",
       "<table border=\"1\" class=\"dataframe\">\n",
       "  <thead>\n",
       "    <tr style=\"text-align: right;\">\n",
       "      <th></th>\n",
       "      <th>index</th>\n",
       "      <th>Age</th>\n",
       "      <th>Sex</th>\n",
       "      <th>ChestPainType</th>\n",
       "      <th>RestingBP</th>\n",
       "      <th>Cholesterol</th>\n",
       "      <th>FastingBS</th>\n",
       "      <th>RestingECG</th>\n",
       "      <th>MaxHR</th>\n",
       "      <th>ExerciseAngina</th>\n",
       "      <th>Oldpeak</th>\n",
       "      <th>ST_Slope</th>\n",
       "      <th>HeartDisease</th>\n",
       "    </tr>\n",
       "  </thead>\n",
       "  <tbody>\n",
       "    <tr>\n",
       "      <th>0</th>\n",
       "      <td>0</td>\n",
       "      <td>40</td>\n",
       "      <td>M</td>\n",
       "      <td>ATA</td>\n",
       "      <td>140</td>\n",
       "      <td>289</td>\n",
       "      <td>0</td>\n",
       "      <td>Normal</td>\n",
       "      <td>172</td>\n",
       "      <td>N</td>\n",
       "      <td>0.0</td>\n",
       "      <td>Up</td>\n",
       "      <td>0</td>\n",
       "    </tr>\n",
       "    <tr>\n",
       "      <th>1</th>\n",
       "      <td>1</td>\n",
       "      <td>49</td>\n",
       "      <td>F</td>\n",
       "      <td>NAP</td>\n",
       "      <td>160</td>\n",
       "      <td>180</td>\n",
       "      <td>0</td>\n",
       "      <td>Normal</td>\n",
       "      <td>156</td>\n",
       "      <td>N</td>\n",
       "      <td>1.0</td>\n",
       "      <td>Flat</td>\n",
       "      <td>1</td>\n",
       "    </tr>\n",
       "    <tr>\n",
       "      <th>2</th>\n",
       "      <td>2</td>\n",
       "      <td>37</td>\n",
       "      <td>M</td>\n",
       "      <td>ATA</td>\n",
       "      <td>130</td>\n",
       "      <td>283</td>\n",
       "      <td>0</td>\n",
       "      <td>ST</td>\n",
       "      <td>98</td>\n",
       "      <td>N</td>\n",
       "      <td>0.0</td>\n",
       "      <td>Up</td>\n",
       "      <td>0</td>\n",
       "    </tr>\n",
       "    <tr>\n",
       "      <th>3</th>\n",
       "      <td>3</td>\n",
       "      <td>48</td>\n",
       "      <td>F</td>\n",
       "      <td>ASY</td>\n",
       "      <td>138</td>\n",
       "      <td>214</td>\n",
       "      <td>0</td>\n",
       "      <td>Normal</td>\n",
       "      <td>108</td>\n",
       "      <td>Y</td>\n",
       "      <td>1.5</td>\n",
       "      <td>Flat</td>\n",
       "      <td>1</td>\n",
       "    </tr>\n",
       "    <tr>\n",
       "      <th>4</th>\n",
       "      <td>4</td>\n",
       "      <td>54</td>\n",
       "      <td>M</td>\n",
       "      <td>NAP</td>\n",
       "      <td>150</td>\n",
       "      <td>195</td>\n",
       "      <td>0</td>\n",
       "      <td>Normal</td>\n",
       "      <td>122</td>\n",
       "      <td>N</td>\n",
       "      <td>0.0</td>\n",
       "      <td>Up</td>\n",
       "      <td>0</td>\n",
       "    </tr>\n",
       "  </tbody>\n",
       "</table>\n",
       "</div>"
      ],
      "text/plain": [
       "   index  Age Sex ChestPainType  RestingBP  Cholesterol  FastingBS RestingECG  \\\n",
       "0      0   40   M           ATA        140          289          0     Normal   \n",
       "1      1   49   F           NAP        160          180          0     Normal   \n",
       "2      2   37   M           ATA        130          283          0         ST   \n",
       "3      3   48   F           ASY        138          214          0     Normal   \n",
       "4      4   54   M           NAP        150          195          0     Normal   \n",
       "\n",
       "   MaxHR ExerciseAngina  Oldpeak ST_Slope  HeartDisease  \n",
       "0    172              N      0.0       Up             0  \n",
       "1    156              N      1.0     Flat             1  \n",
       "2     98              N      0.0       Up             0  \n",
       "3    108              Y      1.5     Flat             1  \n",
       "4    122              N      0.0       Up             0  "
      ]
     },
     "execution_count": 3,
     "metadata": {},
     "output_type": "execute_result"
    }
   ],
   "source": [
    "df.head()"
   ]
  },
  {
   "cell_type": "code",
   "execution_count": 4,
   "id": "58e1e180",
   "metadata": {},
   "outputs": [
    {
     "name": "stdout",
     "output_type": "stream",
     "text": [
      "<class 'pandas.core.frame.DataFrame'>\n",
      "RangeIndex: 918 entries, 0 to 917\n",
      "Data columns (total 13 columns):\n",
      " #   Column          Non-Null Count  Dtype  \n",
      "---  ------          --------------  -----  \n",
      " 0   index           918 non-null    int64  \n",
      " 1   Age             918 non-null    int64  \n",
      " 2   Sex             918 non-null    object \n",
      " 3   ChestPainType   918 non-null    object \n",
      " 4   RestingBP       918 non-null    int64  \n",
      " 5   Cholesterol     918 non-null    int64  \n",
      " 6   FastingBS       918 non-null    int64  \n",
      " 7   RestingECG      918 non-null    object \n",
      " 8   MaxHR           918 non-null    int64  \n",
      " 9   ExerciseAngina  918 non-null    object \n",
      " 10  Oldpeak         918 non-null    float64\n",
      " 11  ST_Slope        918 non-null    object \n",
      " 12  HeartDisease    918 non-null    int64  \n",
      "dtypes: float64(1), int64(7), object(5)\n",
      "memory usage: 93.4+ KB\n"
     ]
    }
   ],
   "source": [
    "df.info()"
   ]
  },
  {
   "cell_type": "code",
   "execution_count": 5,
   "id": "f8ec87fd",
   "metadata": {},
   "outputs": [
    {
     "data": {
      "text/html": [
       "<div>\n",
       "<style scoped>\n",
       "    .dataframe tbody tr th:only-of-type {\n",
       "        vertical-align: middle;\n",
       "    }\n",
       "\n",
       "    .dataframe tbody tr th {\n",
       "        vertical-align: top;\n",
       "    }\n",
       "\n",
       "    .dataframe thead th {\n",
       "        text-align: right;\n",
       "    }\n",
       "</style>\n",
       "<table border=\"1\" class=\"dataframe\">\n",
       "  <thead>\n",
       "    <tr style=\"text-align: right;\">\n",
       "      <th></th>\n",
       "      <th>index</th>\n",
       "      <th>Age</th>\n",
       "      <th>RestingBP</th>\n",
       "      <th>Cholesterol</th>\n",
       "      <th>FastingBS</th>\n",
       "      <th>MaxHR</th>\n",
       "      <th>Oldpeak</th>\n",
       "      <th>HeartDisease</th>\n",
       "    </tr>\n",
       "  </thead>\n",
       "  <tbody>\n",
       "    <tr>\n",
       "      <th>count</th>\n",
       "      <td>918.000000</td>\n",
       "      <td>918.000000</td>\n",
       "      <td>918.000000</td>\n",
       "      <td>918.000000</td>\n",
       "      <td>918.000000</td>\n",
       "      <td>918.000000</td>\n",
       "      <td>918.000000</td>\n",
       "      <td>918.000000</td>\n",
       "    </tr>\n",
       "    <tr>\n",
       "      <th>mean</th>\n",
       "      <td>458.500000</td>\n",
       "      <td>53.510893</td>\n",
       "      <td>132.396514</td>\n",
       "      <td>198.799564</td>\n",
       "      <td>0.233115</td>\n",
       "      <td>136.809368</td>\n",
       "      <td>0.887364</td>\n",
       "      <td>0.553377</td>\n",
       "    </tr>\n",
       "    <tr>\n",
       "      <th>std</th>\n",
       "      <td>265.148072</td>\n",
       "      <td>9.432617</td>\n",
       "      <td>18.514154</td>\n",
       "      <td>109.384145</td>\n",
       "      <td>0.423046</td>\n",
       "      <td>25.460334</td>\n",
       "      <td>1.066570</td>\n",
       "      <td>0.497414</td>\n",
       "    </tr>\n",
       "    <tr>\n",
       "      <th>min</th>\n",
       "      <td>0.000000</td>\n",
       "      <td>28.000000</td>\n",
       "      <td>0.000000</td>\n",
       "      <td>0.000000</td>\n",
       "      <td>0.000000</td>\n",
       "      <td>60.000000</td>\n",
       "      <td>-2.600000</td>\n",
       "      <td>0.000000</td>\n",
       "    </tr>\n",
       "    <tr>\n",
       "      <th>25%</th>\n",
       "      <td>229.250000</td>\n",
       "      <td>47.000000</td>\n",
       "      <td>120.000000</td>\n",
       "      <td>173.250000</td>\n",
       "      <td>0.000000</td>\n",
       "      <td>120.000000</td>\n",
       "      <td>0.000000</td>\n",
       "      <td>0.000000</td>\n",
       "    </tr>\n",
       "    <tr>\n",
       "      <th>50%</th>\n",
       "      <td>458.500000</td>\n",
       "      <td>54.000000</td>\n",
       "      <td>130.000000</td>\n",
       "      <td>223.000000</td>\n",
       "      <td>0.000000</td>\n",
       "      <td>138.000000</td>\n",
       "      <td>0.600000</td>\n",
       "      <td>1.000000</td>\n",
       "    </tr>\n",
       "    <tr>\n",
       "      <th>75%</th>\n",
       "      <td>687.750000</td>\n",
       "      <td>60.000000</td>\n",
       "      <td>140.000000</td>\n",
       "      <td>267.000000</td>\n",
       "      <td>0.000000</td>\n",
       "      <td>156.000000</td>\n",
       "      <td>1.500000</td>\n",
       "      <td>1.000000</td>\n",
       "    </tr>\n",
       "    <tr>\n",
       "      <th>max</th>\n",
       "      <td>917.000000</td>\n",
       "      <td>77.000000</td>\n",
       "      <td>200.000000</td>\n",
       "      <td>603.000000</td>\n",
       "      <td>1.000000</td>\n",
       "      <td>202.000000</td>\n",
       "      <td>6.200000</td>\n",
       "      <td>1.000000</td>\n",
       "    </tr>\n",
       "  </tbody>\n",
       "</table>\n",
       "</div>"
      ],
      "text/plain": [
       "            index         Age   RestingBP  Cholesterol   FastingBS  \\\n",
       "count  918.000000  918.000000  918.000000   918.000000  918.000000   \n",
       "mean   458.500000   53.510893  132.396514   198.799564    0.233115   \n",
       "std    265.148072    9.432617   18.514154   109.384145    0.423046   \n",
       "min      0.000000   28.000000    0.000000     0.000000    0.000000   \n",
       "25%    229.250000   47.000000  120.000000   173.250000    0.000000   \n",
       "50%    458.500000   54.000000  130.000000   223.000000    0.000000   \n",
       "75%    687.750000   60.000000  140.000000   267.000000    0.000000   \n",
       "max    917.000000   77.000000  200.000000   603.000000    1.000000   \n",
       "\n",
       "            MaxHR     Oldpeak  HeartDisease  \n",
       "count  918.000000  918.000000    918.000000  \n",
       "mean   136.809368    0.887364      0.553377  \n",
       "std     25.460334    1.066570      0.497414  \n",
       "min     60.000000   -2.600000      0.000000  \n",
       "25%    120.000000    0.000000      0.000000  \n",
       "50%    138.000000    0.600000      1.000000  \n",
       "75%    156.000000    1.500000      1.000000  \n",
       "max    202.000000    6.200000      1.000000  "
      ]
     },
     "execution_count": 5,
     "metadata": {},
     "output_type": "execute_result"
    }
   ],
   "source": [
    "df.describe()"
   ]
  },
  {
   "cell_type": "code",
   "execution_count": 6,
   "id": "c61532e4",
   "metadata": {},
   "outputs": [
    {
     "data": {
      "text/plain": [
       "array(['ATA', 'NAP', 'ASY', 'TA'], dtype=object)"
      ]
     },
     "execution_count": 6,
     "metadata": {},
     "output_type": "execute_result"
    }
   ],
   "source": [
    "df['ChestPainType'].unique()"
   ]
  },
  {
   "cell_type": "code",
   "execution_count": 7,
   "id": "e44e18de",
   "metadata": {},
   "outputs": [
    {
     "data": {
      "text/plain": [
       "array(['Normal', 'ST', 'LVH'], dtype=object)"
      ]
     },
     "execution_count": 7,
     "metadata": {},
     "output_type": "execute_result"
    }
   ],
   "source": [
    "df['RestingECG'].unique()"
   ]
  },
  {
   "cell_type": "code",
   "execution_count": 8,
   "id": "5d79b460",
   "metadata": {},
   "outputs": [
    {
     "data": {
      "text/plain": [
       "array(['N', 'Y'], dtype=object)"
      ]
     },
     "execution_count": 8,
     "metadata": {},
     "output_type": "execute_result"
    }
   ],
   "source": [
    "df['ExerciseAngina'].unique()"
   ]
  },
  {
   "cell_type": "code",
   "execution_count": 9,
   "id": "52464187",
   "metadata": {},
   "outputs": [
    {
     "data": {
      "text/plain": [
       "array(['Up', 'Flat', 'Down'], dtype=object)"
      ]
     },
     "execution_count": 9,
     "metadata": {},
     "output_type": "execute_result"
    }
   ],
   "source": [
    "df['ST_Slope'].unique()"
   ]
  },
  {
   "cell_type": "code",
   "execution_count": 10,
   "id": "713d7ebc",
   "metadata": {},
   "outputs": [],
   "source": [
    "df_encode = pd.get_dummies(df[['ChestPainType','RestingECG', 'ST_Slope','ExerciseAngina','Sex' ]],prefix=['ChestPainType', 'RestingECG', 'ST_Slope', 'ExerciseAngina','Sex'], dummy_na=True).reset_index()"
   ]
  },
  {
   "cell_type": "code",
   "execution_count": 11,
   "id": "7c89ccb3",
   "metadata": {},
   "outputs": [],
   "source": [
    "df = pd.merge(df,df_encode, on='index', how='left')"
   ]
  },
  {
   "cell_type": "code",
   "execution_count": 12,
   "id": "773316b4",
   "metadata": {},
   "outputs": [],
   "source": [
    "df.drop(columns=['ChestPainType', 'RestingECG', 'ExerciseAngina', 'ST_Slope', 'Sex'], inplace=True)"
   ]
  },
  {
   "cell_type": "code",
   "execution_count": 13,
   "id": "c77632d2",
   "metadata": {},
   "outputs": [
    {
     "data": {
      "text/plain": [
       "0"
      ]
     },
     "execution_count": 13,
     "metadata": {},
     "output_type": "execute_result"
    }
   ],
   "source": [
    "df.isnull().sum().sum()"
   ]
  },
  {
   "cell_type": "code",
   "execution_count": 32,
   "id": "3c795f01",
   "metadata": {},
   "outputs": [],
   "source": [
    "X = df[['Age','RestingBP','Cholesterol','FastingBS','MaxHR','Oldpeak','ChestPainType_ASY','ChestPainType_ATA','ChestPainType_NAP','ChestPainType_nan','RestingECG_LVH','RestingECG_Normal' ,'RestingECG_ST','RestingECG_nan','ST_Slope_Down','ST_Slope_Flat','ST_Slope_Up','ST_Slope_nan','ExerciseAngina_N','ExerciseAngina_Y','ExerciseAngina_nan','Sex_F','Sex_M','Sex_nan']] \n",
    "y = df[['HeartDisease']].values.ravel()"
   ]
  },
  {
   "cell_type": "code",
   "execution_count": 34,
   "id": "726ba6df",
   "metadata": {},
   "outputs": [],
   "source": [
    "from sklearn.model_selection import train_test_split\n",
    "X_train, X_test, y_train, y_test = train_test_split(X, y, test_size=0.2, random_state=42)"
   ]
  },
  {
   "cell_type": "code",
   "execution_count": 75,
   "id": "25321086",
   "metadata": {},
   "outputs": [],
   "source": [
    "from sklearn.linear_model import LogisticRegression\n",
    "from sklearn.pipeline import make_pipeline\n",
    "from sklearn.preprocessing import StandardScaler\n",
    "model = LogisticRegression(max_iter=10000)\n"
   ]
  },
  {
   "cell_type": "code",
   "execution_count": 76,
   "id": "61ee3460",
   "metadata": {},
   "outputs": [
    {
     "data": {
      "text/plain": [
       "LogisticRegression(max_iter=10000)"
      ]
     },
     "execution_count": 76,
     "metadata": {},
     "output_type": "execute_result"
    }
   ],
   "source": [
    "model.fit(X_train, y_train)"
   ]
  },
  {
   "cell_type": "code",
   "execution_count": 77,
   "id": "f958e2f5",
   "metadata": {},
   "outputs": [],
   "source": [
    "y_pred = model.predict(X_test)"
   ]
  },
  {
   "cell_type": "code",
   "execution_count": 78,
   "id": "860453f9",
   "metadata": {},
   "outputs": [
    {
     "data": {
      "text/plain": [
       "0.8532608695652174"
      ]
     },
     "execution_count": 78,
     "metadata": {},
     "output_type": "execute_result"
    }
   ],
   "source": [
    "model.score(X_test, y_test)"
   ]
  },
  {
   "cell_type": "code",
   "execution_count": 79,
   "id": "e759c46b",
   "metadata": {},
   "outputs": [],
   "source": [
    "from sklearn.model_selection import cross_validate"
   ]
  },
  {
   "cell_type": "code",
   "execution_count": 80,
   "id": "48bfbf84",
   "metadata": {},
   "outputs": [],
   "source": [
    "cross_val_res = cross_validate(model,X,y, cv=10, scoring=['accuracy','recall','precision','f1'])"
   ]
  },
  {
   "cell_type": "code",
   "execution_count": 81,
   "id": "20adb3ae",
   "metadata": {},
   "outputs": [],
   "source": [
    "df_res = pd.DataFrame(cross_val_res)"
   ]
  },
  {
   "cell_type": "code",
   "execution_count": 82,
   "id": "867053b1",
   "metadata": {},
   "outputs": [
    {
     "data": {
      "text/html": [
       "<div>\n",
       "<style scoped>\n",
       "    .dataframe tbody tr th:only-of-type {\n",
       "        vertical-align: middle;\n",
       "    }\n",
       "\n",
       "    .dataframe tbody tr th {\n",
       "        vertical-align: top;\n",
       "    }\n",
       "\n",
       "    .dataframe thead th {\n",
       "        text-align: right;\n",
       "    }\n",
       "</style>\n",
       "<table border=\"1\" class=\"dataframe\">\n",
       "  <thead>\n",
       "    <tr style=\"text-align: right;\">\n",
       "      <th></th>\n",
       "      <th>fit_time</th>\n",
       "      <th>score_time</th>\n",
       "      <th>test_accuracy</th>\n",
       "      <th>test_recall</th>\n",
       "      <th>test_precision</th>\n",
       "      <th>test_f1</th>\n",
       "    </tr>\n",
       "  </thead>\n",
       "  <tbody>\n",
       "    <tr>\n",
       "      <th>0</th>\n",
       "      <td>0.149658</td>\n",
       "      <td>0.000000</td>\n",
       "      <td>0.836957</td>\n",
       "      <td>0.784314</td>\n",
       "      <td>0.909091</td>\n",
       "      <td>0.842105</td>\n",
       "    </tr>\n",
       "    <tr>\n",
       "      <th>1</th>\n",
       "      <td>0.171859</td>\n",
       "      <td>0.000000</td>\n",
       "      <td>0.923913</td>\n",
       "      <td>0.901961</td>\n",
       "      <td>0.958333</td>\n",
       "      <td>0.929293</td>\n",
       "    </tr>\n",
       "    <tr>\n",
       "      <th>2</th>\n",
       "      <td>0.218726</td>\n",
       "      <td>0.000000</td>\n",
       "      <td>0.869565</td>\n",
       "      <td>0.843137</td>\n",
       "      <td>0.914894</td>\n",
       "      <td>0.877551</td>\n",
       "    </tr>\n",
       "    <tr>\n",
       "      <th>3</th>\n",
       "      <td>0.286283</td>\n",
       "      <td>0.000000</td>\n",
       "      <td>0.956522</td>\n",
       "      <td>0.960784</td>\n",
       "      <td>0.960784</td>\n",
       "      <td>0.960784</td>\n",
       "    </tr>\n",
       "    <tr>\n",
       "      <th>4</th>\n",
       "      <td>0.217139</td>\n",
       "      <td>0.000000</td>\n",
       "      <td>0.869565</td>\n",
       "      <td>0.980392</td>\n",
       "      <td>0.819672</td>\n",
       "      <td>0.892857</td>\n",
       "    </tr>\n",
       "    <tr>\n",
       "      <th>5</th>\n",
       "      <td>0.201256</td>\n",
       "      <td>0.000000</td>\n",
       "      <td>0.847826</td>\n",
       "      <td>1.000000</td>\n",
       "      <td>0.784615</td>\n",
       "      <td>0.879310</td>\n",
       "    </tr>\n",
       "    <tr>\n",
       "      <th>6</th>\n",
       "      <td>0.303738</td>\n",
       "      <td>0.000000</td>\n",
       "      <td>0.880435</td>\n",
       "      <td>0.980392</td>\n",
       "      <td>0.833333</td>\n",
       "      <td>0.900901</td>\n",
       "    </tr>\n",
       "    <tr>\n",
       "      <th>7</th>\n",
       "      <td>0.134667</td>\n",
       "      <td>0.015623</td>\n",
       "      <td>0.836957</td>\n",
       "      <td>0.823529</td>\n",
       "      <td>0.875000</td>\n",
       "      <td>0.848485</td>\n",
       "    </tr>\n",
       "    <tr>\n",
       "      <th>8</th>\n",
       "      <td>0.046870</td>\n",
       "      <td>0.015623</td>\n",
       "      <td>0.736264</td>\n",
       "      <td>0.760000</td>\n",
       "      <td>0.760000</td>\n",
       "      <td>0.760000</td>\n",
       "    </tr>\n",
       "    <tr>\n",
       "      <th>9</th>\n",
       "      <td>0.093741</td>\n",
       "      <td>0.000000</td>\n",
       "      <td>0.780220</td>\n",
       "      <td>0.720000</td>\n",
       "      <td>0.857143</td>\n",
       "      <td>0.782609</td>\n",
       "    </tr>\n",
       "  </tbody>\n",
       "</table>\n",
       "</div>"
      ],
      "text/plain": [
       "   fit_time  score_time  test_accuracy  test_recall  test_precision   test_f1\n",
       "0  0.149658    0.000000       0.836957     0.784314        0.909091  0.842105\n",
       "1  0.171859    0.000000       0.923913     0.901961        0.958333  0.929293\n",
       "2  0.218726    0.000000       0.869565     0.843137        0.914894  0.877551\n",
       "3  0.286283    0.000000       0.956522     0.960784        0.960784  0.960784\n",
       "4  0.217139    0.000000       0.869565     0.980392        0.819672  0.892857\n",
       "5  0.201256    0.000000       0.847826     1.000000        0.784615  0.879310\n",
       "6  0.303738    0.000000       0.880435     0.980392        0.833333  0.900901\n",
       "7  0.134667    0.015623       0.836957     0.823529        0.875000  0.848485\n",
       "8  0.046870    0.015623       0.736264     0.760000        0.760000  0.760000\n",
       "9  0.093741    0.000000       0.780220     0.720000        0.857143  0.782609"
      ]
     },
     "execution_count": 82,
     "metadata": {},
     "output_type": "execute_result"
    }
   ],
   "source": [
    "df_res"
   ]
  },
  {
   "cell_type": "code",
   "execution_count": 100,
   "id": "361798f5",
   "metadata": {},
   "outputs": [],
   "source": [
    "from sklearn.model_selection import GridSearchCV\n",
    "parameters = {'penalty': ['l1', 'l2'],'C': np.logspace(-4, 4, 20),\n",
    "    'solver': ['liblinear']}\n",
    "clf = GridSearchCV(model, param_grid=parameters,scoring = 'accuracy')"
   ]
  },
  {
   "cell_type": "code",
   "execution_count": 101,
   "id": "6e9314dd",
   "metadata": {},
   "outputs": [
    {
     "data": {
      "text/plain": [
       "{'C': 0.615848211066026, 'penalty': 'l1', 'solver': 'liblinear'}"
      ]
     },
     "execution_count": 101,
     "metadata": {},
     "output_type": "execute_result"
    }
   ],
   "source": [
    "search_1 = clf.fit(X_train, y_train)\n",
    "y_pred_grid = clf.predict(X_test)\n",
    "search_1.best_params_"
   ]
  },
  {
   "cell_type": "code",
   "execution_count": 102,
   "id": "adabdc0d",
   "metadata": {},
   "outputs": [],
   "source": [
    "cross_val_res_n = cross_validate(clf,X,y, cv=10, scoring=['accuracy','recall','precision','f1'])"
   ]
  },
  {
   "cell_type": "code",
   "execution_count": 103,
   "id": "4805b529",
   "metadata": {},
   "outputs": [],
   "source": [
    "df_res_n = pd.DataFrame(cross_val_res_n)"
   ]
  },
  {
   "cell_type": "code",
   "execution_count": 104,
   "id": "c5105d52",
   "metadata": {},
   "outputs": [
    {
     "data": {
      "text/html": [
       "<div>\n",
       "<style scoped>\n",
       "    .dataframe tbody tr th:only-of-type {\n",
       "        vertical-align: middle;\n",
       "    }\n",
       "\n",
       "    .dataframe tbody tr th {\n",
       "        vertical-align: top;\n",
       "    }\n",
       "\n",
       "    .dataframe thead th {\n",
       "        text-align: right;\n",
       "    }\n",
       "</style>\n",
       "<table border=\"1\" class=\"dataframe\">\n",
       "  <thead>\n",
       "    <tr style=\"text-align: right;\">\n",
       "      <th></th>\n",
       "      <th>fit_time</th>\n",
       "      <th>score_time</th>\n",
       "      <th>test_accuracy</th>\n",
       "      <th>test_recall</th>\n",
       "      <th>test_precision</th>\n",
       "      <th>test_f1</th>\n",
       "    </tr>\n",
       "  </thead>\n",
       "  <tbody>\n",
       "    <tr>\n",
       "      <th>0</th>\n",
       "      <td>1.064394</td>\n",
       "      <td>0.004364</td>\n",
       "      <td>0.826087</td>\n",
       "      <td>0.764706</td>\n",
       "      <td>0.906977</td>\n",
       "      <td>0.829787</td>\n",
       "    </tr>\n",
       "    <tr>\n",
       "      <th>1</th>\n",
       "      <td>1.069415</td>\n",
       "      <td>0.000000</td>\n",
       "      <td>0.913043</td>\n",
       "      <td>0.901961</td>\n",
       "      <td>0.938776</td>\n",
       "      <td>0.920000</td>\n",
       "    </tr>\n",
       "    <tr>\n",
       "      <th>2</th>\n",
       "      <td>1.066130</td>\n",
       "      <td>0.000000</td>\n",
       "      <td>0.869565</td>\n",
       "      <td>0.843137</td>\n",
       "      <td>0.914894</td>\n",
       "      <td>0.877551</td>\n",
       "    </tr>\n",
       "    <tr>\n",
       "      <th>3</th>\n",
       "      <td>1.089372</td>\n",
       "      <td>0.000000</td>\n",
       "      <td>0.945652</td>\n",
       "      <td>0.941176</td>\n",
       "      <td>0.960000</td>\n",
       "      <td>0.950495</td>\n",
       "    </tr>\n",
       "    <tr>\n",
       "      <th>4</th>\n",
       "      <td>1.056794</td>\n",
       "      <td>0.015559</td>\n",
       "      <td>0.869565</td>\n",
       "      <td>0.980392</td>\n",
       "      <td>0.819672</td>\n",
       "      <td>0.892857</td>\n",
       "    </tr>\n",
       "    <tr>\n",
       "      <th>5</th>\n",
       "      <td>1.028463</td>\n",
       "      <td>0.000000</td>\n",
       "      <td>0.847826</td>\n",
       "      <td>1.000000</td>\n",
       "      <td>0.784615</td>\n",
       "      <td>0.879310</td>\n",
       "    </tr>\n",
       "    <tr>\n",
       "      <th>6</th>\n",
       "      <td>1.039183</td>\n",
       "      <td>0.008021</td>\n",
       "      <td>0.880435</td>\n",
       "      <td>0.960784</td>\n",
       "      <td>0.844828</td>\n",
       "      <td>0.899083</td>\n",
       "    </tr>\n",
       "    <tr>\n",
       "      <th>7</th>\n",
       "      <td>1.122707</td>\n",
       "      <td>0.002732</td>\n",
       "      <td>0.836957</td>\n",
       "      <td>0.823529</td>\n",
       "      <td>0.875000</td>\n",
       "      <td>0.848485</td>\n",
       "    </tr>\n",
       "    <tr>\n",
       "      <th>8</th>\n",
       "      <td>1.161517</td>\n",
       "      <td>0.015633</td>\n",
       "      <td>0.747253</td>\n",
       "      <td>0.760000</td>\n",
       "      <td>0.775510</td>\n",
       "      <td>0.767677</td>\n",
       "    </tr>\n",
       "    <tr>\n",
       "      <th>9</th>\n",
       "      <td>1.036516</td>\n",
       "      <td>0.000000</td>\n",
       "      <td>0.791209</td>\n",
       "      <td>0.720000</td>\n",
       "      <td>0.878049</td>\n",
       "      <td>0.791209</td>\n",
       "    </tr>\n",
       "  </tbody>\n",
       "</table>\n",
       "</div>"
      ],
      "text/plain": [
       "   fit_time  score_time  test_accuracy  test_recall  test_precision   test_f1\n",
       "0  1.064394    0.004364       0.826087     0.764706        0.906977  0.829787\n",
       "1  1.069415    0.000000       0.913043     0.901961        0.938776  0.920000\n",
       "2  1.066130    0.000000       0.869565     0.843137        0.914894  0.877551\n",
       "3  1.089372    0.000000       0.945652     0.941176        0.960000  0.950495\n",
       "4  1.056794    0.015559       0.869565     0.980392        0.819672  0.892857\n",
       "5  1.028463    0.000000       0.847826     1.000000        0.784615  0.879310\n",
       "6  1.039183    0.008021       0.880435     0.960784        0.844828  0.899083\n",
       "7  1.122707    0.002732       0.836957     0.823529        0.875000  0.848485\n",
       "8  1.161517    0.015633       0.747253     0.760000        0.775510  0.767677\n",
       "9  1.036516    0.000000       0.791209     0.720000        0.878049  0.791209"
      ]
     },
     "execution_count": 104,
     "metadata": {},
     "output_type": "execute_result"
    }
   ],
   "source": [
    "df_res_n"
   ]
  },
  {
   "cell_type": "code",
   "execution_count": 105,
   "id": "6b80d96d",
   "metadata": {},
   "outputs": [
    {
     "name": "stdout",
     "output_type": "stream",
     "text": [
      "Accuracy Score : 0.8532608695652174\n",
      "Precision Score : 0.9\n",
      "Recall Score : 0.8411214953271028\n",
      "F1 Score : 0.8695652173913043\n",
      "Confusion Matrix : \n",
      "[[67 10]\n",
      " [17 90]]\n"
     ]
    }
   ],
   "source": [
    "from sklearn.metrics import accuracy_score,recall_score,precision_score,f1_score\n",
    "\n",
    "print('Accuracy Score : ' + str(accuracy_score(y_test,y_pred)))\n",
    "print('Precision Score : ' + str(precision_score(y_test,y_pred)))\n",
    "print('Recall Score : ' + str(recall_score(y_test,y_pred)))\n",
    "print('F1 Score : ' + str(f1_score(y_test,y_pred)))\n",
    "\n",
    "from sklearn.metrics import confusion_matrix\n",
    "print('Confusion Matrix : \\n' + str(confusion_matrix(y_test,y_pred)))"
   ]
  },
  {
   "cell_type": "code",
   "execution_count": 106,
   "id": "27e64413",
   "metadata": {},
   "outputs": [
    {
     "name": "stdout",
     "output_type": "stream",
     "text": [
      "Accuracy Score : 0.8532608695652174\n",
      "Precision Score : 0.9081632653061225\n",
      "Recall Score : 0.8317757009345794\n",
      "F1 Score : 0.8682926829268293\n",
      "Confusion Matrix : \n",
      "[[68  9]\n",
      " [18 89]]\n"
     ]
    }
   ],
   "source": [
    "print('Accuracy Score : ' + str(accuracy_score(y_test,y_pred_grid)))\n",
    "print('Precision Score : ' + str(precision_score(y_test,y_pred_grid)))\n",
    "print('Recall Score : ' + str(recall_score(y_test,y_pred_grid)))\n",
    "print('F1 Score : ' + str(f1_score(y_test,y_pred_grid)))\n",
    "print('Confusion Matrix : \\n' + str(confusion_matrix(y_test,y_pred_grid)))\n"
   ]
  },
  {
   "cell_type": "code",
   "execution_count": 115,
   "id": "27473b1d",
   "metadata": {},
   "outputs": [
    {
     "data": {
      "text/plain": [
       "{'solver': 'newton-cg', 'C': 206.913808111479}"
      ]
     },
     "execution_count": 115,
     "metadata": {},
     "output_type": "execute_result"
    }
   ],
   "source": [
    "from sklearn.model_selection import RandomizedSearchCV\n",
    "param = {'solver' : ['newton-cg', 'lbfgs','sag', 'liblinear', 'saga'],'C' : np.logspace(-4, 4, 20)}\n",
    "clf_1 = RandomizedSearchCV(model, param)\n",
    "search = clf_1.fit(X,y)\n",
    "search.best_params_\n"
   ]
  },
  {
   "cell_type": "code",
   "execution_count": 116,
   "id": "151abc02",
   "metadata": {},
   "outputs": [],
   "source": [
    "y_pred_rand = clf_1.predict(X_test)"
   ]
  },
  {
   "cell_type": "code",
   "execution_count": 117,
   "id": "663266e1",
   "metadata": {},
   "outputs": [
    {
     "name": "stdout",
     "output_type": "stream",
     "text": [
      "Accuracy Score : 0.8641304347826086\n",
      "Precision Score : 0.9019607843137255\n",
      "Recall Score : 0.8598130841121495\n",
      "F1 Score : 0.8803827751196173\n",
      "Confusion Matrix : \n",
      "[[67 10]\n",
      " [15 92]]\n"
     ]
    }
   ],
   "source": [
    "print('Accuracy Score : ' + str(accuracy_score(y_test,y_pred_rand)))\n",
    "print('Precision Score : ' + str(precision_score(y_test,y_pred_rand)))\n",
    "print('Recall Score : ' + str(recall_score(y_test,y_pred_rand)))\n",
    "print('F1 Score : ' + str(f1_score(y_test,y_pred_rand)))\n",
    "print('Confusion Matrix : \\n' + str(confusion_matrix(y_test,y_pred_rand)))\n"
   ]
  },
  {
   "cell_type": "markdown",
   "id": "3d99db3d",
   "metadata": {},
   "source": [
    "### Выводы\n",
    "В случае bagging результат получился лучше\n"
   ]
  }
 ],
 "metadata": {
  "kernelspec": {
   "display_name": "Python 3 (ipykernel)",
   "language": "python",
   "name": "python3"
  },
  "language_info": {
   "codemirror_mode": {
    "name": "ipython",
    "version": 3
   },
   "file_extension": ".py",
   "mimetype": "text/x-python",
   "name": "python",
   "nbconvert_exporter": "python",
   "pygments_lexer": "ipython3",
   "version": "3.9.7"
  }
 },
 "nbformat": 4,
 "nbformat_minor": 5
}
